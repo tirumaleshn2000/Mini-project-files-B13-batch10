{
 "cells": [
  {
   "cell_type": "code",
   "execution_count": 1,
   "id": "3047af2a",
   "metadata": {},
   "outputs": [],
   "source": [
    "import pandas as pd\n",
    "import numpy as np"
   ]
  },
  {
   "cell_type": "code",
   "execution_count": 2,
   "id": "404157a7",
   "metadata": {},
   "outputs": [],
   "source": [
    "import matplotlib.pyplot as plt"
   ]
  },
  {
   "cell_type": "code",
   "execution_count": 3,
   "id": "46b5eca9",
   "metadata": {},
   "outputs": [],
   "source": [
    "import warnings\n",
    "warnings.filterwarnings('ignore')"
   ]
  },
  {
   "cell_type": "code",
   "execution_count": 4,
   "id": "9bd085cd",
   "metadata": {},
   "outputs": [],
   "source": [
    "data_frame=pd.read_csv('deceased_data.csv')"
   ]
  },
  {
   "cell_type": "code",
   "execution_count": 5,
   "id": "456ab2ee",
   "metadata": {},
   "outputs": [
    {
     "data": {
      "text/html": [
       "<div>\n",
       "<style scoped>\n",
       "    .dataframe tbody tr th:only-of-type {\n",
       "        vertical-align: middle;\n",
       "    }\n",
       "\n",
       "    .dataframe tbody tr th {\n",
       "        vertical-align: top;\n",
       "    }\n",
       "\n",
       "    .dataframe thead th {\n",
       "        text-align: right;\n",
       "    }\n",
       "</style>\n",
       "<table border=\"1\" class=\"dataframe\">\n",
       "  <thead>\n",
       "    <tr style=\"text-align: right;\">\n",
       "      <th></th>\n",
       "      <th>Date</th>\n",
       "      <th>Date_YMD</th>\n",
       "      <th>Status</th>\n",
       "      <th>TT</th>\n",
       "      <th>AN</th>\n",
       "      <th>AP</th>\n",
       "      <th>AR</th>\n",
       "      <th>AS</th>\n",
       "      <th>BR</th>\n",
       "      <th>CH</th>\n",
       "      <th>...</th>\n",
       "      <th>PB</th>\n",
       "      <th>RJ</th>\n",
       "      <th>SK</th>\n",
       "      <th>TN</th>\n",
       "      <th>TG</th>\n",
       "      <th>TR</th>\n",
       "      <th>UP</th>\n",
       "      <th>UT</th>\n",
       "      <th>WB</th>\n",
       "      <th>UN</th>\n",
       "    </tr>\n",
       "  </thead>\n",
       "  <tbody>\n",
       "    <tr>\n",
       "      <th>0</th>\n",
       "      <td>14-Mar-20</td>\n",
       "      <td>2020-03-14</td>\n",
       "      <td>Deceased</td>\n",
       "      <td>2</td>\n",
       "      <td>0</td>\n",
       "      <td>0</td>\n",
       "      <td>0</td>\n",
       "      <td>0</td>\n",
       "      <td>0</td>\n",
       "      <td>0</td>\n",
       "      <td>...</td>\n",
       "      <td>0</td>\n",
       "      <td>0</td>\n",
       "      <td>0</td>\n",
       "      <td>0</td>\n",
       "      <td>0</td>\n",
       "      <td>0</td>\n",
       "      <td>0</td>\n",
       "      <td>0</td>\n",
       "      <td>0</td>\n",
       "      <td>0</td>\n",
       "    </tr>\n",
       "    <tr>\n",
       "      <th>1</th>\n",
       "      <td>15-Mar-20</td>\n",
       "      <td>2020-03-15</td>\n",
       "      <td>Deceased</td>\n",
       "      <td>0</td>\n",
       "      <td>0</td>\n",
       "      <td>0</td>\n",
       "      <td>0</td>\n",
       "      <td>0</td>\n",
       "      <td>0</td>\n",
       "      <td>0</td>\n",
       "      <td>...</td>\n",
       "      <td>0</td>\n",
       "      <td>0</td>\n",
       "      <td>0</td>\n",
       "      <td>0</td>\n",
       "      <td>0</td>\n",
       "      <td>0</td>\n",
       "      <td>0</td>\n",
       "      <td>0</td>\n",
       "      <td>0</td>\n",
       "      <td>0</td>\n",
       "    </tr>\n",
       "    <tr>\n",
       "      <th>2</th>\n",
       "      <td>16-Mar-20</td>\n",
       "      <td>2020-03-16</td>\n",
       "      <td>Deceased</td>\n",
       "      <td>0</td>\n",
       "      <td>0</td>\n",
       "      <td>0</td>\n",
       "      <td>0</td>\n",
       "      <td>0</td>\n",
       "      <td>0</td>\n",
       "      <td>0</td>\n",
       "      <td>...</td>\n",
       "      <td>0</td>\n",
       "      <td>0</td>\n",
       "      <td>0</td>\n",
       "      <td>0</td>\n",
       "      <td>0</td>\n",
       "      <td>0</td>\n",
       "      <td>0</td>\n",
       "      <td>0</td>\n",
       "      <td>0</td>\n",
       "      <td>0</td>\n",
       "    </tr>\n",
       "    <tr>\n",
       "      <th>3</th>\n",
       "      <td>17-Mar-20</td>\n",
       "      <td>2020-03-17</td>\n",
       "      <td>Deceased</td>\n",
       "      <td>1</td>\n",
       "      <td>0</td>\n",
       "      <td>0</td>\n",
       "      <td>0</td>\n",
       "      <td>0</td>\n",
       "      <td>0</td>\n",
       "      <td>0</td>\n",
       "      <td>...</td>\n",
       "      <td>0</td>\n",
       "      <td>0</td>\n",
       "      <td>0</td>\n",
       "      <td>0</td>\n",
       "      <td>0</td>\n",
       "      <td>0</td>\n",
       "      <td>0</td>\n",
       "      <td>0</td>\n",
       "      <td>0</td>\n",
       "      <td>0</td>\n",
       "    </tr>\n",
       "    <tr>\n",
       "      <th>4</th>\n",
       "      <td>18-Mar-20</td>\n",
       "      <td>2020-03-18</td>\n",
       "      <td>Deceased</td>\n",
       "      <td>0</td>\n",
       "      <td>0</td>\n",
       "      <td>0</td>\n",
       "      <td>0</td>\n",
       "      <td>0</td>\n",
       "      <td>0</td>\n",
       "      <td>0</td>\n",
       "      <td>...</td>\n",
       "      <td>0</td>\n",
       "      <td>0</td>\n",
       "      <td>0</td>\n",
       "      <td>0</td>\n",
       "      <td>0</td>\n",
       "      <td>0</td>\n",
       "      <td>0</td>\n",
       "      <td>0</td>\n",
       "      <td>0</td>\n",
       "      <td>0</td>\n",
       "    </tr>\n",
       "  </tbody>\n",
       "</table>\n",
       "<p>5 rows × 42 columns</p>\n",
       "</div>"
      ],
      "text/plain": [
       "        Date    Date_YMD    Status  TT  AN  AP  AR  AS  BR  CH  ...  PB  RJ  \\\n",
       "0  14-Mar-20  2020-03-14  Deceased   2   0   0   0   0   0   0  ...   0   0   \n",
       "1  15-Mar-20  2020-03-15  Deceased   0   0   0   0   0   0   0  ...   0   0   \n",
       "2  16-Mar-20  2020-03-16  Deceased   0   0   0   0   0   0   0  ...   0   0   \n",
       "3  17-Mar-20  2020-03-17  Deceased   1   0   0   0   0   0   0  ...   0   0   \n",
       "4  18-Mar-20  2020-03-18  Deceased   0   0   0   0   0   0   0  ...   0   0   \n",
       "\n",
       "   SK  TN  TG  TR  UP  UT  WB  UN  \n",
       "0   0   0   0   0   0   0   0   0  \n",
       "1   0   0   0   0   0   0   0   0  \n",
       "2   0   0   0   0   0   0   0   0  \n",
       "3   0   0   0   0   0   0   0   0  \n",
       "4   0   0   0   0   0   0   0   0  \n",
       "\n",
       "[5 rows x 42 columns]"
      ]
     },
     "execution_count": 5,
     "metadata": {},
     "output_type": "execute_result"
    }
   ],
   "source": [
    "data_frame.head()"
   ]
  },
  {
   "cell_type": "code",
   "execution_count": 88,
   "id": "1a3efec4",
   "metadata": {},
   "outputs": [
    {
     "data": {
      "text/html": [
       "<div>\n",
       "<style scoped>\n",
       "    .dataframe tbody tr th:only-of-type {\n",
       "        vertical-align: middle;\n",
       "    }\n",
       "\n",
       "    .dataframe tbody tr th {\n",
       "        vertical-align: top;\n",
       "    }\n",
       "\n",
       "    .dataframe thead th {\n",
       "        text-align: right;\n",
       "    }\n",
       "</style>\n",
       "<table border=\"1\" class=\"dataframe\">\n",
       "  <thead>\n",
       "    <tr style=\"text-align: right;\">\n",
       "      <th></th>\n",
       "      <th>Date</th>\n",
       "      <th>Date_YMD</th>\n",
       "      <th>Status</th>\n",
       "      <th>TT</th>\n",
       "      <th>AN</th>\n",
       "      <th>AP</th>\n",
       "      <th>AR</th>\n",
       "      <th>AS</th>\n",
       "      <th>BR</th>\n",
       "      <th>CH</th>\n",
       "      <th>...</th>\n",
       "      <th>PB</th>\n",
       "      <th>RJ</th>\n",
       "      <th>SK</th>\n",
       "      <th>TN</th>\n",
       "      <th>TG</th>\n",
       "      <th>TR</th>\n",
       "      <th>UP</th>\n",
       "      <th>UT</th>\n",
       "      <th>WB</th>\n",
       "      <th>UN</th>\n",
       "    </tr>\n",
       "  </thead>\n",
       "  <tbody>\n",
       "    <tr>\n",
       "      <th>566</th>\n",
       "      <td>01-Oct-21</td>\n",
       "      <td>2021-10-01</td>\n",
       "      <td>Deceased</td>\n",
       "      <td>233</td>\n",
       "      <td>0</td>\n",
       "      <td>10</td>\n",
       "      <td>1</td>\n",
       "      <td>3</td>\n",
       "      <td>0</td>\n",
       "      <td>0</td>\n",
       "      <td>...</td>\n",
       "      <td>2</td>\n",
       "      <td>0</td>\n",
       "      <td>0</td>\n",
       "      <td>25</td>\n",
       "      <td>1</td>\n",
       "      <td>0</td>\n",
       "      <td>0</td>\n",
       "      <td>1</td>\n",
       "      <td>13</td>\n",
       "      <td>0</td>\n",
       "    </tr>\n",
       "    <tr>\n",
       "      <th>567</th>\n",
       "      <td>02-Oct-21</td>\n",
       "      <td>2021-10-02</td>\n",
       "      <td>Deceased</td>\n",
       "      <td>242</td>\n",
       "      <td>0</td>\n",
       "      <td>9</td>\n",
       "      <td>0</td>\n",
       "      <td>4</td>\n",
       "      <td>0</td>\n",
       "      <td>0</td>\n",
       "      <td>...</td>\n",
       "      <td>2</td>\n",
       "      <td>0</td>\n",
       "      <td>1</td>\n",
       "      <td>24</td>\n",
       "      <td>1</td>\n",
       "      <td>1</td>\n",
       "      <td>0</td>\n",
       "      <td>0</td>\n",
       "      <td>9</td>\n",
       "      <td>0</td>\n",
       "    </tr>\n",
       "    <tr>\n",
       "      <th>568</th>\n",
       "      <td>03-Oct-21</td>\n",
       "      <td>2021-10-03</td>\n",
       "      <td>Deceased</td>\n",
       "      <td>182</td>\n",
       "      <td>0</td>\n",
       "      <td>9</td>\n",
       "      <td>0</td>\n",
       "      <td>1</td>\n",
       "      <td>0</td>\n",
       "      <td>0</td>\n",
       "      <td>...</td>\n",
       "      <td>0</td>\n",
       "      <td>0</td>\n",
       "      <td>0</td>\n",
       "      <td>23</td>\n",
       "      <td>1</td>\n",
       "      <td>1</td>\n",
       "      <td>2</td>\n",
       "      <td>0</td>\n",
       "      <td>10</td>\n",
       "      <td>0</td>\n",
       "    </tr>\n",
       "    <tr>\n",
       "      <th>569</th>\n",
       "      <td>04-Oct-21</td>\n",
       "      <td>2021-10-04</td>\n",
       "      <td>Deceased</td>\n",
       "      <td>263</td>\n",
       "      <td>0</td>\n",
       "      <td>4</td>\n",
       "      <td>0</td>\n",
       "      <td>9</td>\n",
       "      <td>0</td>\n",
       "      <td>0</td>\n",
       "      <td>...</td>\n",
       "      <td>1</td>\n",
       "      <td>0</td>\n",
       "      <td>0</td>\n",
       "      <td>16</td>\n",
       "      <td>2</td>\n",
       "      <td>0</td>\n",
       "      <td>0</td>\n",
       "      <td>0</td>\n",
       "      <td>12</td>\n",
       "      <td>0</td>\n",
       "    </tr>\n",
       "    <tr>\n",
       "      <th>570</th>\n",
       "      <td>05-Oct-21</td>\n",
       "      <td>2021-10-05</td>\n",
       "      <td>Deceased</td>\n",
       "      <td>276</td>\n",
       "      <td>0</td>\n",
       "      <td>11</td>\n",
       "      <td>0</td>\n",
       "      <td>7</td>\n",
       "      <td>0</td>\n",
       "      <td>1</td>\n",
       "      <td>...</td>\n",
       "      <td>4</td>\n",
       "      <td>0</td>\n",
       "      <td>0</td>\n",
       "      <td>16</td>\n",
       "      <td>1</td>\n",
       "      <td>0</td>\n",
       "      <td>2</td>\n",
       "      <td>0</td>\n",
       "      <td>11</td>\n",
       "      <td>0</td>\n",
       "    </tr>\n",
       "  </tbody>\n",
       "</table>\n",
       "<p>5 rows × 42 columns</p>\n",
       "</div>"
      ],
      "text/plain": [
       "          Date    Date_YMD    Status   TT  AN  AP  AR  AS  BR  CH  ...  PB  \\\n",
       "566  01-Oct-21  2021-10-01  Deceased  233   0  10   1   3   0   0  ...   2   \n",
       "567  02-Oct-21  2021-10-02  Deceased  242   0   9   0   4   0   0  ...   2   \n",
       "568  03-Oct-21  2021-10-03  Deceased  182   0   9   0   1   0   0  ...   0   \n",
       "569  04-Oct-21  2021-10-04  Deceased  263   0   4   0   9   0   0  ...   1   \n",
       "570  05-Oct-21  2021-10-05  Deceased  276   0  11   0   7   0   1  ...   4   \n",
       "\n",
       "     RJ  SK  TN  TG  TR  UP  UT  WB  UN  \n",
       "566   0   0  25   1   0   0   1  13   0  \n",
       "567   0   1  24   1   1   0   0   9   0  \n",
       "568   0   0  23   1   1   2   0  10   0  \n",
       "569   0   0  16   2   0   0   0  12   0  \n",
       "570   0   0  16   1   0   2   0  11   0  \n",
       "\n",
       "[5 rows x 42 columns]"
      ]
     },
     "execution_count": 88,
     "metadata": {},
     "output_type": "execute_result"
    }
   ],
   "source": [
    "data_frame.tail()"
   ]
  },
  {
   "cell_type": "code",
   "execution_count": 28,
   "id": "2b4a6390",
   "metadata": {},
   "outputs": [
    {
     "data": {
      "image/png": "[encoded data removed]",
      "text/plain": [
       "<Figure size 864x576 with 2 Axes>"
      ]
     },
     "metadata": {
      "needs_background": "light"
     },
     "output_type": "display_data"
    }
   ],
   "source": [
    "#acf and pacf plots for 'AP'\n",
    "from statsmodels.graphics.tsaplots import plot_acf,plot_pacf\n",
    "data=data_frame.copy()\n",
    "data['AP']=data['AP'].shift(1)\n",
    "fig = plt.figure(figsize=(12,8))\n",
    "ax1 = fig.add_subplot(211)\n",
    "fig = plot_acf(data['AP'].dropna(),lags=70,ax=ax1)\n",
    "ax2 = fig.add_subplot(212)\n",
    "fig = plot_pacf(data['AP'].dropna(),lags=70,ax=ax2)"
   ]
  },
  {
   "cell_type": "code",
   "execution_count": 29,
   "id": "f41b4f4e",
   "metadata": {},
   "outputs": [
    {
     "data": {
      "image/png": "[encoded data removed]",
      "text/plain": [
       "<Figure size 864x576 with 2 Axes>"
      ]
     },
     "metadata": {
      "needs_background": "light"
     },
     "output_type": "display_data"
    }
   ],
   "source": [
    "#acf and pacf plots for 'TT'\n",
    "from statsmodels.graphics.tsaplots import plot_acf,plot_pacf\n",
    "data=data_frame.copy()\n",
    "data['TT']=data['TT'].shift(1)\n",
    "fig = plt.figure(figsize=(12,8))\n",
    "ax1 = fig.add_subplot(211)\n",
    "fig = plot_acf(data['TT'].dropna(),lags=70,ax=ax1)\n",
    "ax2 = fig.add_subplot(212)\n",
    "fig = plot_pacf(data['TT'].dropna(),lags=70,ax=ax2)"
   ]
  },
  {
   "cell_type": "code",
   "execution_count": 6,
   "id": "b4574192",
   "metadata": {},
   "outputs": [],
   "source": [
    "from statsmodels.tsa.arima.model import ARIMA\n",
    "def ARIMA_model(p,d,q,cols):\n",
    "    data=data_frame.copy()\n",
    "    ##sizes\n",
    "    train_data_size=int(len(data)*(0.70))\n",
    "    test_data_size=len(data)-train_data_size\n",
    "    #\n",
    "    last_index=data_frame.index[-1]\n",
    "    #splitting the total cases data.\n",
    "    train_data=data[cols][:train_data_size]\n",
    "    test_data=data[cols][len(data)-test_data_size:]\n",
    "    #initializing the model to train\n",
    "    model=ARIMA(data_frame[cols],order=(p,d,q));\n",
    "    #training the data and assigned to model_fit var.\n",
    "    model_fit=model.fit()\n",
    "    #predicting using test data\n",
    "    data['Forecasted_data']=model_fit.predict(start=test_data.index[0],end=test_data.index[-1])\n",
    "    #model evaluation\n",
    "    #100-(100*(sum([abs(((i-j)/j)) for i,j in zip(data['Forecasted_data'].dropna(),test_data)]))/len(test_data))\n",
    "    mape = np.mean(np.abs(data['Forecasted_data'].dropna() - test_data)/np.abs(test_data))*100\n",
    "    accuracy=100-mape\n",
    "    print('p: {}, d: {}, q:{}'.format(p,d,q))\n",
    "    print('Accuracy: {}%'.format(round(accuracy,2)))\n",
    "    return model_fit"
   ]
  },
  {
   "cell_type": "code",
   "execution_count": 8,
   "id": "0478b9b7",
   "metadata": {
    "scrolled": true
   },
   "outputs": [
    {
     "name": "stderr",
     "output_type": "stream",
     "text": [
      "/Library/Frameworks/Python.framework/Versions/3.9/lib/python3.9/site-packages/statsmodels/base/model.py:566: ConvergenceWarning: Maximum Likelihood optimization failed to converge. Check mle_retvals\n",
      "  warnings.warn(\"Maximum Likelihood optimization failed to \"\n"
     ]
    },
    {
     "name": "stdout",
     "output_type": "stream",
     "text": [
      "p: 52, d: 2, q:66\n",
      "Accuracy: 84.76%\n"
     ]
    }
   ],
   "source": [
    "ap_model=ARIMA_model(52,2,66,'AP')"
   ]
  },
  {
   "cell_type": "code",
   "execution_count": 103,
   "id": "c68df35c",
   "metadata": {},
   "outputs": [],
   "source": [
    "#SARIMAX \n",
    "import statsmodels.api as sm\n",
    "def SARIMA_model(p,d,q,cols):\n",
    "    data=data_frame.copy()\n",
    "    ##sizes\n",
    "    train_data_size=int(len(data)*(0.70))\n",
    "    test_data_size=len(data)-train_data_size\n",
    "    #\n",
    "    last_index=data_frame.index[-1]\n",
    "    #splitting the total cases data.\n",
    "    train_data=data[cols][:train_data_size]\n",
    "    test_data=data[cols][len(data)-test_data_size:]\n",
    "    #initializing the model to train\n",
    "    model=sm.tsa.statespace.SARIMAX(data_frame[cols],order=(p, d, q));\n",
    "    #training the data and assigned to model_fit var.\n",
    "    model_fit=model.fit()\n",
    "    #predicting using test data\n",
    "    data['Forecasted_data']=model_fit.predict(start=test_data.index[0],end=test_data.index[-1])\n",
    "    #model evaluation\n",
    "    #100-(100*(sum([abs(((i-j)/j)) for i,j in zip(data['Forecasted_data'].dropna(),test_data)]))/len(test_data))\n",
    "    mape = np.mean(np.abs(data['Forecasted_data'].dropna() - test_data)/np.abs(test_data))*100\n",
    "    accuracy=100-mape\n",
    "    print('p: {}, d: {}, q:{}'.format(p,d,q))\n",
    "    print('Accuracy: {}%'.format(round(accuracy,2)))\n",
    "    return model_fit"
   ]
  },
  {
   "cell_type": "code",
   "execution_count": 104,
   "id": "309d7db4",
   "metadata": {},
   "outputs": [
    {
     "name": "stderr",
     "output_type": "stream",
     "text": [
      " This problem is unconstrained.\n"
     ]
    },
    {
     "name": "stdout",
     "output_type": "stream",
     "text": [
      "RUNNING THE L-BFGS-B CODE\n",
      "\n",
      "           * * *\n",
      "\n",
      "Machine precision = 2.220D-16\n",
      " N =           14     M =           10\n",
      "\n",
      "At X0         0 variables are exactly at the bounds\n",
      "\n",
      "At iterate    0    f=  7.08033D+00    |proj g|=  2.98590D-02\n",
      "\n",
      "At iterate    5    f=  7.07816D+00    |proj g|=  1.15137D-02\n",
      "\n",
      "At iterate   10    f=  7.07653D+00    |proj g|=  1.07124D-02\n",
      "\n",
      "At iterate   15    f=  7.07563D+00    |proj g|=  5.49214D-03\n",
      "\n",
      "At iterate   20    f=  7.07504D+00    |proj g|=  7.47068D-03\n",
      "\n",
      "At iterate   25    f=  7.07495D+00    |proj g|=  6.79728D-03\n",
      "\n",
      "At iterate   30    f=  7.07481D+00    |proj g|=  1.75198D-03\n",
      "\n",
      "At iterate   35    f=  7.07478D+00    |proj g|=  3.14008D-04\n",
      "\n",
      "At iterate   40    f=  7.07478D+00    |proj g|=  3.03422D-04\n",
      "\n",
      "At iterate   45    f=  7.07478D+00    |proj g|=  6.46791D-04\n",
      "\n",
      "At iterate   50    f=  7.07476D+00    |proj g|=  2.16538D-03\n",
      "\n",
      "           * * *\n",
      "\n",
      "Tit   = total number of iterations\n",
      "Tnf   = total number of function evaluations\n",
      "Tnint = total number of segments explored during Cauchy searches\n",
      "Skip  = number of BFGS updates skipped\n",
      "Nact  = number of active bounds at final generalized Cauchy point\n",
      "Projg = norm of the final projected gradient\n",
      "F     = final function value\n",
      "\n",
      "           * * *\n",
      "\n",
      "   N    Tit     Tnf  Tnint  Skip  Nact     Projg        F\n",
      "   14     50     55      1     0     0   2.165D-03   7.075D+00\n",
      "  F =   7.0747620196347452     \n",
      "\n",
      "STOP: TOTAL NO. of ITERATIONS REACHED LIMIT                 \n",
      "p: 4, d: 2, q:9\n",
      "Accuracy: 78.12%\n"
     ]
    },
    {
     "name": "stderr",
     "output_type": "stream",
     "text": [
      "/Library/Frameworks/Python.framework/Versions/3.9/lib/python3.9/site-packages/statsmodels/base/model.py:566: ConvergenceWarning: Maximum Likelihood optimization failed to converge. Check mle_retvals\n",
      "  warnings.warn(\"Maximum Likelihood optimization failed to \"\n"
     ]
    }
   ],
   "source": [
    "total_model=SARIMA_model(4,2,9,'TT')"
   ]
  },
  {
   "cell_type": "code",
   "execution_count": 60,
   "id": "72dd02d6",
   "metadata": {},
   "outputs": [
    {
     "name": "stdout",
     "output_type": "stream",
     "text": [
      "RUNNING THE L-BFGS-B CODE\n",
      "\n",
      "           * * *\n",
      "\n",
      "Machine precision = 2.220D-16\n",
      " N =           14     M =           10\n",
      "\n",
      "At X0         0 variables are exactly at the bounds\n",
      "\n",
      "At iterate    0    f=  7.08033D+00    |proj g|=  2.98590D-02\n",
      "\n",
      "At iterate    5    f=  7.07816D+00    |proj g|=  1.15137D-02\n"
     ]
    },
    {
     "name": "stderr",
     "output_type": "stream",
     "text": [
      " This problem is unconstrained.\n"
     ]
    },
    {
     "name": "stdout",
     "output_type": "stream",
     "text": [
      "\n",
      "At iterate   10    f=  7.07653D+00    |proj g|=  1.07124D-02\n",
      "\n",
      "At iterate   15    f=  7.07563D+00    |proj g|=  5.49214D-03\n",
      "\n",
      "At iterate   20    f=  7.07504D+00    |proj g|=  7.47068D-03\n",
      "\n",
      "At iterate   25    f=  7.07495D+00    |proj g|=  6.79728D-03\n",
      "\n",
      "At iterate   30    f=  7.07481D+00    |proj g|=  1.75198D-03\n",
      "\n",
      "At iterate   35    f=  7.07478D+00    |proj g|=  3.14008D-04\n",
      "\n",
      "At iterate   40    f=  7.07478D+00    |proj g|=  3.03422D-04\n",
      "\n",
      "At iterate   45    f=  7.07478D+00    |proj g|=  6.46791D-04\n",
      "\n",
      "At iterate   50    f=  7.07476D+00    |proj g|=  2.16538D-03\n",
      "\n",
      "           * * *\n",
      "\n",
      "Tit   = total number of iterations\n",
      "Tnf   = total number of function evaluations\n",
      "Tnint = total number of segments explored during Cauchy searches\n",
      "Skip  = number of BFGS updates skipped\n",
      "Nact  = number of active bounds at final generalized Cauchy point\n",
      "Projg = norm of the final projected gradient\n",
      "F     = final function value\n",
      "\n",
      "           * * *\n",
      "\n",
      "   N    Tit     Tnf  Tnint  Skip  Nact     Projg        F\n",
      "   14     50     55      1     0     0   2.165D-03   7.075D+00\n",
      "  F =   7.0747620196347452     \n",
      "\n",
      "STOP: TOTAL NO. of ITERATIONS REACHED LIMIT                 \n",
      "p: 4, d: 2, q:9\n",
      "Accuracy: 78.12%\n"
     ]
    },
    {
     "name": "stderr",
     "output_type": "stream",
     "text": [
      "/Library/Frameworks/Python.framework/Versions/3.9/lib/python3.9/site-packages/statsmodels/base/model.py:566: ConvergenceWarning: Maximum Likelihood optimization failed to converge. Check mle_retvals\n",
      "  warnings.warn(\"Maximum Likelihood optimization failed to \"\n"
     ]
    }
   ],
   "source": [
    "total_model=SARIMA_model(4,2,9,'TT')"
   ]
  },
  {
   "cell_type": "code",
   "execution_count": 95,
   "id": "2e857afe",
   "metadata": {},
   "outputs": [
    {
     "name": "stderr",
     "output_type": "stream",
     "text": [
      " This problem is unconstrained.\n"
     ]
    },
    {
     "name": "stdout",
     "output_type": "stream",
     "text": [
      "RUNNING THE L-BFGS-B CODE\n",
      "\n",
      "           * * *\n",
      "\n",
      "Machine precision = 2.220D-16\n",
      " N =           11     M =           10\n",
      "\n",
      "At X0         0 variables are exactly at the bounds\n",
      "\n",
      "At iterate    0    f=  8.42437D+00    |proj g|=  2.39929D+00\n",
      "\n",
      "At iterate    5    f=  7.15795D+00    |proj g|=  1.18737D-01\n",
      "\n",
      "At iterate   10    f=  7.08790D+00    |proj g|=  1.97023D-02\n",
      "\n",
      "At iterate   15    f=  7.08674D+00    |proj g|=  1.81201D-03\n",
      "\n",
      "At iterate   20    f=  7.08673D+00    |proj g|=  9.70868D-04\n",
      "\n",
      "At iterate   25    f=  7.08595D+00    |proj g|=  1.51704D-02\n",
      "\n",
      "At iterate   30    f=  7.07875D+00    |proj g|=  4.43712D-03\n",
      "\n",
      "At iterate   35    f=  7.07871D+00    |proj g|=  2.21703D-03\n",
      "\n",
      "           * * *\n",
      "\n",
      "Tit   = total number of iterations\n",
      "Tnf   = total number of function evaluations\n",
      "Tnint = total number of segments explored during Cauchy searches\n",
      "Skip  = number of BFGS updates skipped\n",
      "Nact  = number of active bounds at final generalized Cauchy point\n",
      "Projg = norm of the final projected gradient\n",
      "F     = final function value\n",
      "\n",
      "           * * *\n",
      "\n",
      "   N    Tit     Tnf  Tnint  Skip  Nact     Projg        F\n",
      "   11     39     40      1     0     0   1.741D-05   7.079D+00\n",
      "  F =   7.0786968949414746     \n",
      "\n",
      "CONVERGENCE: REL_REDUCTION_OF_F_<=_FACTR*EPSMCH             \n",
      "p: 0, d: 2, q:10\n",
      "Accuracy: 78.85%\n"
     ]
    }
   ],
   "source": [
    "total_model=SARIMA_model(0,2,10,'TT')"
   ]
  },
  {
   "cell_type": "markdown",
   "id": "c384322f",
   "metadata": {},
   "source": [
    "# Final forecast for total cases in India"
   ]
  },
  {
   "cell_type": "code",
   "execution_count": 146,
   "id": "b4ac2375",
   "metadata": {},
   "outputs": [
    {
     "data": {
      "image/png": "[encoded data removed]",
      "text/plain": [
       "<Figure size 432x288 with 1 Axes>"
      ]
     },
     "metadata": {
      "needs_background": "light"
     },
     "output_type": "display_data"
    }
   ],
   "source": [
    "data=data_frame.copy()\n",
    "future_dates=range(last_index,last_index+150)\n",
    "future_data=pd.DataFrame(index=future_dates,columns=data.columns)\n",
    "final_data=pd.concat([data,future_data])\n",
    "final_data['final_tt_data_forecast']=total_model.predict(start=last_index,end=last_index+150,dynamic=True)\n",
    "final_data[['TT','final_tt_data_forecast']].plot();"
   ]
  },
  {
   "cell_type": "code",
   "execution_count": 147,
   "id": "b298c867",
   "metadata": {},
   "outputs": [],
   "source": [
    "final_data['Date_YMD']=pd.to_datetime(final_data['Date_YMD'])\n",
    "final_data['Date_YMD'].iloc[571:]=pd.date_range(start='2021-10-06',periods=150,freq='D')"
   ]
  },
  {
   "cell_type": "code",
   "execution_count": 149,
   "id": "8e5807d7",
   "metadata": {},
   "outputs": [],
   "source": [
    "final_total_forecast_data=pd.concat([final_data['TT'].dropna(),final_data['final_tt_data_forecast'].dropna()])"
   ]
  },
  {
   "cell_type": "code",
   "execution_count": 150,
   "id": "d537a2b9",
   "metadata": {},
   "outputs": [
    {
     "data": {
      "image/png": "[encoded data removed]",
      "text/plain": [
       "<Figure size 432x288 with 1 Axes>"
      ]
     },
     "metadata": {
      "needs_background": "light"
     },
     "output_type": "display_data"
    }
   ],
   "source": [
    "plt.title('Forecast of daily cases in India')\n",
    "plt.plot(final_data['Date_YMD'],final_data[['TT','final_tt_data_forecast']]);\n",
    "plt.xticks(rotation=90);\n",
    "plt.xlabel('Date');\n",
    "plt.ylabel('Count of cases');"
   ]
  },
  {
   "cell_type": "markdown",
   "id": "5252ab8d",
   "metadata": {},
   "source": [
    "# Final covid forecast in AP"
   ]
  },
  {
   "cell_type": "code",
   "execution_count": 139,
   "id": "fb49194c",
   "metadata": {},
   "outputs": [
    {
     "data": {
      "image/png": "[encoded data removed]",
      "text/plain": [
       "<Figure size 432x288 with 1 Axes>"
      ]
     },
     "metadata": {
      "needs_background": "light"
     },
     "output_type": "display_data"
    }
   ],
   "source": [
    "data=data_frame.copy()\n",
    "future_dates=range(last_index,last_index+150)\n",
    "future_data=pd.DataFrame(index=future_dates,columns=data.columns)\n",
    "final_data=pd.concat([data,future_data])\n",
    "final_data['final_ap_data_forecast']=ap_model.predict(start=last_index,end=last_index+150,dynamic=True)\n",
    "final_data[['AP','final_ap_data_forecast']].plot();"
   ]
  },
  {
   "cell_type": "code",
   "execution_count": 140,
   "id": "40188692",
   "metadata": {},
   "outputs": [],
   "source": [
    "final_data['Date_YMD']=pd.to_datetime(final_data['Date_YMD'])\n",
    "final_data['Date_YMD'].iloc[571:]=pd.date_range(start='2021-10-06',periods=150,freq='D')"
   ]
  },
  {
   "cell_type": "code",
   "execution_count": 141,
   "id": "4eda6605",
   "metadata": {},
   "outputs": [],
   "source": [
    "final_total_forecast_data=pd.concat([final_data['AP'].dropna(),final_data['final_ap_data_forecast'].dropna()])"
   ]
  },
  {
   "cell_type": "code",
   "execution_count": 142,
   "id": "d6c0ea4f",
   "metadata": {},
   "outputs": [
    {
     "data": {
      "text/plain": [
       "0             0\n",
       "1             0\n",
       "2             0\n",
       "3             0\n",
       "4             0\n",
       "         ...   \n",
       "716    1.333223\n",
       "717    1.190706\n",
       "718    1.645336\n",
       "719    1.591719\n",
       "720    2.560316\n",
       "Length: 723, dtype: object"
      ]
     },
     "execution_count": 142,
     "metadata": {},
     "output_type": "execute_result"
    }
   ],
   "source": [
    "final_ap_forecast_data"
   ]
  },
  {
   "cell_type": "code",
   "execution_count": 145,
   "id": "44311317",
   "metadata": {},
   "outputs": [
    {
     "data": {
      "image/png": "[encoded data removed]",
      "text/plain": [
       "<Figure size 432x288 with 1 Axes>"
      ]
     },
     "metadata": {
      "needs_background": "light"
     },
     "output_type": "display_data"
    }
   ],
   "source": [
    "plt.title('Forecast of daily cases in AP')\n",
    "plt.plot(final_data['Date_YMD'],final_data[['AP','final_ap_data_forecast']]);\n",
    "plt.xticks(rotation=90);\n",
    "plt.xlabel('Date');\n",
    "plt.ylabel('Count of cases');"
   ]
  }
 ],
 "metadata": {
  "kernelspec": {
   "display_name": "Python 3 (ipykernel)",
   "language": "python",
   "name": "python3"
  },
  "language_info": {
   "codemirror_mode": {
    "name": "ipython",
    "version": 3
   },
   "file_extension": ".py",
   "mimetype": "text/x-python",
   "name": "python",
   "nbconvert_exporter": "python",
   "pygments_lexer": "ipython3",
   "version": "3.9.6"
  }
 },
 "nbformat": 4,
 "nbformat_minor": 5
}
