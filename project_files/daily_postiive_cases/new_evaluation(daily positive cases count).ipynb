{
 "cells": [
  {
   "cell_type": "code",
   "execution_count": 51,
   "id": "a508c02f",
   "metadata": {},
   "outputs": [],
   "source": [
    "import pandas as pd\n",
    "data_frame=pd.read_csv('confirmed_data.csv')\n",
    "import numpy as np\n",
    "import matplotlib.pyplot as plt"
   ]
  },
  {
   "cell_type": "code",
   "execution_count": 41,
   "id": "34cd2063",
   "metadata": {},
   "outputs": [
    {
     "data": {
      "text/html": [
       "<div>\n",
       "<style scoped>\n",
       "    .dataframe tbody tr th:only-of-type {\n",
       "        vertical-align: middle;\n",
       "    }\n",
       "\n",
       "    .dataframe tbody tr th {\n",
       "        vertical-align: top;\n",
       "    }\n",
       "\n",
       "    .dataframe thead th {\n",
       "        text-align: right;\n",
       "    }\n",
       "</style>\n",
       "<table border=\"1\" class=\"dataframe\">\n",
       "  <thead>\n",
       "    <tr style=\"text-align: right;\">\n",
       "      <th></th>\n",
       "      <th>Date</th>\n",
       "      <th>Date_YMD</th>\n",
       "      <th>Status</th>\n",
       "      <th>TT</th>\n",
       "      <th>AN</th>\n",
       "      <th>AP</th>\n",
       "      <th>AR</th>\n",
       "      <th>AS</th>\n",
       "      <th>BR</th>\n",
       "      <th>CH</th>\n",
       "      <th>...</th>\n",
       "      <th>PB</th>\n",
       "      <th>RJ</th>\n",
       "      <th>SK</th>\n",
       "      <th>TN</th>\n",
       "      <th>TG</th>\n",
       "      <th>TR</th>\n",
       "      <th>UP</th>\n",
       "      <th>UT</th>\n",
       "      <th>WB</th>\n",
       "      <th>UN</th>\n",
       "    </tr>\n",
       "  </thead>\n",
       "  <tbody>\n",
       "    <tr>\n",
       "      <th>0</th>\n",
       "      <td>14-Mar-20</td>\n",
       "      <td>2020-03-14</td>\n",
       "      <td>Confirmed</td>\n",
       "      <td>81</td>\n",
       "      <td>0</td>\n",
       "      <td>1</td>\n",
       "      <td>0</td>\n",
       "      <td>0</td>\n",
       "      <td>0</td>\n",
       "      <td>0</td>\n",
       "      <td>...</td>\n",
       "      <td>1</td>\n",
       "      <td>3</td>\n",
       "      <td>0</td>\n",
       "      <td>1</td>\n",
       "      <td>1</td>\n",
       "      <td>0</td>\n",
       "      <td>12</td>\n",
       "      <td>0</td>\n",
       "      <td>0</td>\n",
       "      <td>0</td>\n",
       "    </tr>\n",
       "    <tr>\n",
       "      <th>1</th>\n",
       "      <td>15-Mar-20</td>\n",
       "      <td>2020-03-15</td>\n",
       "      <td>Confirmed</td>\n",
       "      <td>27</td>\n",
       "      <td>0</td>\n",
       "      <td>0</td>\n",
       "      <td>0</td>\n",
       "      <td>0</td>\n",
       "      <td>0</td>\n",
       "      <td>0</td>\n",
       "      <td>...</td>\n",
       "      <td>0</td>\n",
       "      <td>1</td>\n",
       "      <td>0</td>\n",
       "      <td>0</td>\n",
       "      <td>2</td>\n",
       "      <td>0</td>\n",
       "      <td>1</td>\n",
       "      <td>0</td>\n",
       "      <td>0</td>\n",
       "      <td>0</td>\n",
       "    </tr>\n",
       "    <tr>\n",
       "      <th>2</th>\n",
       "      <td>16-Mar-20</td>\n",
       "      <td>2020-03-16</td>\n",
       "      <td>Confirmed</td>\n",
       "      <td>15</td>\n",
       "      <td>0</td>\n",
       "      <td>0</td>\n",
       "      <td>0</td>\n",
       "      <td>0</td>\n",
       "      <td>0</td>\n",
       "      <td>0</td>\n",
       "      <td>...</td>\n",
       "      <td>0</td>\n",
       "      <td>0</td>\n",
       "      <td>0</td>\n",
       "      <td>0</td>\n",
       "      <td>1</td>\n",
       "      <td>0</td>\n",
       "      <td>0</td>\n",
       "      <td>1</td>\n",
       "      <td>0</td>\n",
       "      <td>0</td>\n",
       "    </tr>\n",
       "    <tr>\n",
       "      <th>3</th>\n",
       "      <td>17-Mar-20</td>\n",
       "      <td>2020-03-17</td>\n",
       "      <td>Confirmed</td>\n",
       "      <td>11</td>\n",
       "      <td>0</td>\n",
       "      <td>0</td>\n",
       "      <td>0</td>\n",
       "      <td>0</td>\n",
       "      <td>0</td>\n",
       "      <td>0</td>\n",
       "      <td>...</td>\n",
       "      <td>0</td>\n",
       "      <td>0</td>\n",
       "      <td>0</td>\n",
       "      <td>0</td>\n",
       "      <td>1</td>\n",
       "      <td>0</td>\n",
       "      <td>2</td>\n",
       "      <td>0</td>\n",
       "      <td>1</td>\n",
       "      <td>0</td>\n",
       "    </tr>\n",
       "    <tr>\n",
       "      <th>4</th>\n",
       "      <td>18-Mar-20</td>\n",
       "      <td>2020-03-18</td>\n",
       "      <td>Confirmed</td>\n",
       "      <td>37</td>\n",
       "      <td>0</td>\n",
       "      <td>0</td>\n",
       "      <td>0</td>\n",
       "      <td>0</td>\n",
       "      <td>0</td>\n",
       "      <td>0</td>\n",
       "      <td>...</td>\n",
       "      <td>1</td>\n",
       "      <td>3</td>\n",
       "      <td>0</td>\n",
       "      <td>1</td>\n",
       "      <td>8</td>\n",
       "      <td>0</td>\n",
       "      <td>2</td>\n",
       "      <td>1</td>\n",
       "      <td>0</td>\n",
       "      <td>0</td>\n",
       "    </tr>\n",
       "    <tr>\n",
       "      <th>...</th>\n",
       "      <td>...</td>\n",
       "      <td>...</td>\n",
       "      <td>...</td>\n",
       "      <td>...</td>\n",
       "      <td>...</td>\n",
       "      <td>...</td>\n",
       "      <td>...</td>\n",
       "      <td>...</td>\n",
       "      <td>...</td>\n",
       "      <td>...</td>\n",
       "      <td>...</td>\n",
       "      <td>...</td>\n",
       "      <td>...</td>\n",
       "      <td>...</td>\n",
       "      <td>...</td>\n",
       "      <td>...</td>\n",
       "      <td>...</td>\n",
       "      <td>...</td>\n",
       "      <td>...</td>\n",
       "      <td>...</td>\n",
       "      <td>...</td>\n",
       "    </tr>\n",
       "    <tr>\n",
       "      <th>563</th>\n",
       "      <td>28-Sep-21</td>\n",
       "      <td>2021-09-28</td>\n",
       "      <td>Confirmed</td>\n",
       "      <td>21898</td>\n",
       "      <td>1</td>\n",
       "      <td>771</td>\n",
       "      <td>49</td>\n",
       "      <td>390</td>\n",
       "      <td>1</td>\n",
       "      <td>2</td>\n",
       "      <td>...</td>\n",
       "      <td>40</td>\n",
       "      <td>4</td>\n",
       "      <td>64</td>\n",
       "      <td>1630</td>\n",
       "      <td>220</td>\n",
       "      <td>19</td>\n",
       "      <td>16</td>\n",
       "      <td>15</td>\n",
       "      <td>708</td>\n",
       "      <td>0</td>\n",
       "    </tr>\n",
       "    <tr>\n",
       "      <th>564</th>\n",
       "      <td>29-Sep-21</td>\n",
       "      <td>2021-09-29</td>\n",
       "      <td>Confirmed</td>\n",
       "      <td>23166</td>\n",
       "      <td>0</td>\n",
       "      <td>1084</td>\n",
       "      <td>128</td>\n",
       "      <td>366</td>\n",
       "      <td>4</td>\n",
       "      <td>5</td>\n",
       "      <td>...</td>\n",
       "      <td>22</td>\n",
       "      <td>2</td>\n",
       "      <td>57</td>\n",
       "      <td>1624</td>\n",
       "      <td>245</td>\n",
       "      <td>20</td>\n",
       "      <td>6</td>\n",
       "      <td>11</td>\n",
       "      <td>748</td>\n",
       "      <td>0</td>\n",
       "    </tr>\n",
       "    <tr>\n",
       "      <th>565</th>\n",
       "      <td>30-Sep-21</td>\n",
       "      <td>2021-09-30</td>\n",
       "      <td>Confirmed</td>\n",
       "      <td>27285</td>\n",
       "      <td>1</td>\n",
       "      <td>1010</td>\n",
       "      <td>54</td>\n",
       "      <td>376</td>\n",
       "      <td>6</td>\n",
       "      <td>6</td>\n",
       "      <td>...</td>\n",
       "      <td>35</td>\n",
       "      <td>5</td>\n",
       "      <td>39</td>\n",
       "      <td>1612</td>\n",
       "      <td>214</td>\n",
       "      <td>22</td>\n",
       "      <td>0</td>\n",
       "      <td>7</td>\n",
       "      <td>749</td>\n",
       "      <td>0</td>\n",
       "    </tr>\n",
       "    <tr>\n",
       "      <th>566</th>\n",
       "      <td>01-Oct-21</td>\n",
       "      <td>2021-10-01</td>\n",
       "      <td>Confirmed</td>\n",
       "      <td>23918</td>\n",
       "      <td>0</td>\n",
       "      <td>809</td>\n",
       "      <td>54</td>\n",
       "      <td>303</td>\n",
       "      <td>3</td>\n",
       "      <td>2</td>\n",
       "      <td>...</td>\n",
       "      <td>27</td>\n",
       "      <td>4</td>\n",
       "      <td>31</td>\n",
       "      <td>1597</td>\n",
       "      <td>220</td>\n",
       "      <td>21</td>\n",
       "      <td>35</td>\n",
       "      <td>13</td>\n",
       "      <td>708</td>\n",
       "      <td>0</td>\n",
       "    </tr>\n",
       "    <tr>\n",
       "      <th>567</th>\n",
       "      <td>02-Oct-21</td>\n",
       "      <td>2021-10-02</td>\n",
       "      <td>Confirmed</td>\n",
       "      <td>23156</td>\n",
       "      <td>1</td>\n",
       "      <td>865</td>\n",
       "      <td>13</td>\n",
       "      <td>246</td>\n",
       "      <td>4</td>\n",
       "      <td>3</td>\n",
       "      <td>...</td>\n",
       "      <td>36</td>\n",
       "      <td>6</td>\n",
       "      <td>0</td>\n",
       "      <td>1578</td>\n",
       "      <td>201</td>\n",
       "      <td>15</td>\n",
       "      <td>0</td>\n",
       "      <td>0</td>\n",
       "      <td>761</td>\n",
       "      <td>0</td>\n",
       "    </tr>\n",
       "  </tbody>\n",
       "</table>\n",
       "<p>568 rows × 42 columns</p>\n",
       "</div>"
      ],
      "text/plain": [
       "          Date    Date_YMD     Status     TT  AN    AP   AR   AS  BR  CH  ...  \\\n",
       "0    14-Mar-20  2020-03-14  Confirmed     81   0     1    0    0   0   0  ...   \n",
       "1    15-Mar-20  2020-03-15  Confirmed     27   0     0    0    0   0   0  ...   \n",
       "2    16-Mar-20  2020-03-16  Confirmed     15   0     0    0    0   0   0  ...   \n",
       "3    17-Mar-20  2020-03-17  Confirmed     11   0     0    0    0   0   0  ...   \n",
       "4    18-Mar-20  2020-03-18  Confirmed     37   0     0    0    0   0   0  ...   \n",
       "..         ...         ...        ...    ...  ..   ...  ...  ...  ..  ..  ...   \n",
       "563  28-Sep-21  2021-09-28  Confirmed  21898   1   771   49  390   1   2  ...   \n",
       "564  29-Sep-21  2021-09-29  Confirmed  23166   0  1084  128  366   4   5  ...   \n",
       "565  30-Sep-21  2021-09-30  Confirmed  27285   1  1010   54  376   6   6  ...   \n",
       "566  01-Oct-21  2021-10-01  Confirmed  23918   0   809   54  303   3   2  ...   \n",
       "567  02-Oct-21  2021-10-02  Confirmed  23156   1   865   13  246   4   3  ...   \n",
       "\n",
       "     PB  RJ  SK    TN   TG  TR  UP  UT   WB  UN  \n",
       "0     1   3   0     1    1   0  12   0    0   0  \n",
       "1     0   1   0     0    2   0   1   0    0   0  \n",
       "2     0   0   0     0    1   0   0   1    0   0  \n",
       "3     0   0   0     0    1   0   2   0    1   0  \n",
       "4     1   3   0     1    8   0   2   1    0   0  \n",
       "..   ..  ..  ..   ...  ...  ..  ..  ..  ...  ..  \n",
       "563  40   4  64  1630  220  19  16  15  708   0  \n",
       "564  22   2  57  1624  245  20   6  11  748   0  \n",
       "565  35   5  39  1612  214  22   0   7  749   0  \n",
       "566  27   4  31  1597  220  21  35  13  708   0  \n",
       "567  36   6   0  1578  201  15   0   0  761   0  \n",
       "\n",
       "[568 rows x 42 columns]"
      ]
     },
     "execution_count": 41,
     "metadata": {},
     "output_type": "execute_result"
    }
   ],
   "source": [
    "data_frame"
   ]
  },
  {
   "cell_type": "code",
   "execution_count": 42,
   "id": "8c910fc6",
   "metadata": {},
   "outputs": [
    {
     "data": {
      "text/plain": [
       "(568, 42)"
      ]
     },
     "execution_count": 42,
     "metadata": {},
     "output_type": "execute_result"
    }
   ],
   "source": [
    "data_frame.shape"
   ]
  },
  {
   "cell_type": "code",
   "execution_count": 43,
   "id": "6f34c463",
   "metadata": {},
   "outputs": [],
   "source": [
    "train_data=data_frame['TT'].loc[0:450]"
   ]
  },
  {
   "cell_type": "code",
   "execution_count": 44,
   "id": "b25f26b1",
   "metadata": {},
   "outputs": [],
   "source": [
    "test_data=data_frame['TT'].loc[451:567]"
   ]
  },
  {
   "cell_type": "code",
   "execution_count": 45,
   "id": "105911ad",
   "metadata": {},
   "outputs": [],
   "source": [
    "import statsmodels.api as sm\n",
    "model=sm.tsa.statespace.SARIMAX(train_data,order=(3, 1, 1),seasonal_order=(3,1,1,71))"
   ]
  },
  {
   "cell_type": "code",
   "execution_count": 46,
   "id": "bff3cddd",
   "metadata": {},
   "outputs": [
    {
     "name": "stderr",
     "output_type": "stream",
     "text": [
      " This problem is unconstrained.\n"
     ]
    },
    {
     "name": "stdout",
     "output_type": "stream",
     "text": [
      "RUNNING THE L-BFGS-B CODE\n",
      "\n",
      "           * * *\n",
      "\n",
      "Machine precision = 2.220D-16\n",
      " N =            9     M =           10\n",
      "\n",
      "At X0         0 variables are exactly at the bounds\n",
      "\n",
      "At iterate    0    f=  8.93497D+00    |proj g|=  2.05712D-01\n",
      "\n",
      "At iterate    5    f=  8.84684D+00    |proj g|=  7.44591D-03\n",
      "\n",
      "At iterate   10    f=  8.84568D+00    |proj g|=  9.46642D-03\n",
      "\n",
      "At iterate   15    f=  8.82385D+00    |proj g|=  5.35167D-02\n",
      "\n",
      "At iterate   20    f=  8.81453D+00    |proj g|=  1.30303D-02\n",
      "\n",
      "At iterate   25    f=  8.81388D+00    |proj g|=  7.39512D-04\n",
      "\n",
      "At iterate   30    f=  8.81372D+00    |proj g|=  2.17013D-03\n",
      "\n",
      "           * * *\n",
      "\n",
      "Tit   = total number of iterations\n",
      "Tnf   = total number of function evaluations\n",
      "Tnint = total number of segments explored during Cauchy searches\n",
      "Skip  = number of BFGS updates skipped\n",
      "Nact  = number of active bounds at final generalized Cauchy point\n",
      "Projg = norm of the final projected gradient\n",
      "F     = final function value\n",
      "\n",
      "           * * *\n",
      "\n",
      "   N    Tit     Tnf  Tnint  Skip  Nact     Projg        F\n",
      "    9     34     39      1     0     0   4.493D-05   8.814D+00\n",
      "  F =   8.8137150195180300     \n",
      "\n",
      "CONVERGENCE: REL_REDUCTION_OF_F_<=_FACTR*EPSMCH             \n"
     ]
    }
   ],
   "source": [
    "model_fit=model.fit()"
   ]
  },
  {
   "cell_type": "code",
   "execution_count": 47,
   "id": "68a91cf6",
   "metadata": {},
   "outputs": [],
   "source": [
    "data=data_frame.copy()\n",
    "data['Forecasted_data']=model_fit.predict(start=451,end=567,dynamic=True)"
   ]
  },
  {
   "cell_type": "code",
   "execution_count": 48,
   "id": "de105fc5",
   "metadata": {},
   "outputs": [
    {
     "name": "stderr",
     "output_type": "stream",
     "text": [
      "/var/folders/4b/082wp8yj1vdb15yd5756bphm0000gn/T/ipykernel_2604/1071402018.py:10: FutureWarning: Support for multi-dimensional indexing (e.g. `obj[:, None]`) is deprecated and will be removed in a future version.  Convert to a numpy array before indexing instead.\n",
      "  mins = np.amin(np.hstack([forecast[:,None],\n",
      "/var/folders/4b/082wp8yj1vdb15yd5756bphm0000gn/T/ipykernel_2604/1071402018.py:12: FutureWarning: Support for multi-dimensional indexing (e.g. `obj[:, None]`) is deprecated and will be removed in a future version.  Convert to a numpy array before indexing instead.\n",
      "  maxs = np.amax(np.hstack([forecast[:,None],\n",
      "/Library/Frameworks/Python.framework/Versions/3.9/lib/python3.9/site-packages/statsmodels/tsa/stattools.py:657: FutureWarning: The default number of lags is changing from 40 tomin(int(10 * np.log10(nobs)), nobs - 1) after 0.12is released. Set the number of lags to an integer to  silence this warning.\n",
      "  warnings.warn(\n",
      "/Library/Frameworks/Python.framework/Versions/3.9/lib/python3.9/site-packages/statsmodels/tsa/stattools.py:667: FutureWarning: fft=True will become the default after the release of the 0.12 release of statsmodels. To suppress this warning, explicitly set fft=False.\n",
      "  warnings.warn(\n"
     ]
    },
    {
     "data": {
      "text/plain": [
       "{'mape': 3.135366898044335,\n",
       " 'me': -110591.17396438969,\n",
       " 'mae': 110591.17396438969,\n",
       " 'mpe': -3.135366898044335,\n",
       " 'rmse': 125477.1693510965,\n",
       " 'acf1': 0.97546620757312,\n",
       " 'corr': 0.6373490006203848,\n",
       " 'minmax': 3.1353668980443357,\n",
       " 'mse': 15744520028.36375}"
      ]
     },
     "execution_count": 48,
     "metadata": {},
     "output_type": "execute_result"
    }
   ],
   "source": [
    "from statsmodels.tsa.stattools import acf\n",
    "from sklearn.metrics import mean_squared_error\n",
    "def forecast_accuracy(forecast, actual):\n",
    "    mape = np.mean(np.abs(forecast - actual)/np.abs(actual))  # MAPE\n",
    "    me = np.mean(forecast - actual)             # ME\n",
    "    mae = np.mean(np.abs(forecast - actual))    # MAE\n",
    "    mpe = np.mean((forecast - actual)/actual)   # MPE\n",
    "    rmse = np.mean((forecast - actual)**2)**.5  # RMSE\n",
    "    corr = np.corrcoef(forecast, actual)[0,1]   # corr\n",
    "    mins = np.amin(np.hstack([forecast[:,None], \n",
    "                              actual[:,None]]), axis=1)\n",
    "    maxs = np.amax(np.hstack([forecast[:,None], \n",
    "                              actual[:,None]]), axis=1)\n",
    "    minmax = 1 - np.mean(mins/maxs)             # minmax\n",
    "    mse=mean_squared_error(actual,forecast)\n",
    "    acf1 = acf(forecast-actual)[1]                      # ACF1\n",
    "    return({'mape':mape, 'me':me, 'mae': mae, \n",
    "            'mpe': mpe, 'rmse':rmse, 'acf1':acf1, \n",
    "            'corr':corr, 'minmax':minmax,'mse':mse})\n",
    "\n",
    "forecast_accuracy(data['Forecasted_data'].dropna(), test_data.values)"
   ]
  },
  {
   "cell_type": "code",
   "execution_count": 49,
   "id": "43aa9702",
   "metadata": {},
   "outputs": [
    {
     "data": {
      "text/plain": [
       "<AxesSubplot:>"
      ]
     },
     "execution_count": 49,
     "metadata": {},
     "output_type": "execute_result"
    },
    {
     "data": {
      "image/png": "[encoded data removed]",
      "text/plain": [
       "<Figure size 432x288 with 1 Axes>"
      ]
     },
     "metadata": {
      "needs_background": "light"
     },
     "output_type": "display_data"
    }
   ],
   "source": [
    "train_data.plot()"
   ]
  },
  {
   "cell_type": "code",
   "execution_count": null,
   "id": "23e75d64",
   "metadata": {},
   "outputs": [],
   "source": []
  },
  {
   "cell_type": "code",
   "execution_count": 99,
   "id": "1f8ff891",
   "metadata": {},
   "outputs": [
    {
     "name": "stderr",
     "output_type": "stream",
     "text": [
      "/Library/Frameworks/Python.framework/Versions/3.9/lib/python3.9/site-packages/statsmodels/regression/linear_model.py:1434: RuntimeWarning: invalid value encountered in sqrt\n",
      "  return rho, np.sqrt(sigmasq)\n"
     ]
    },
    {
     "data": {
      "image/png": "[encoded data removed]",
      "text/plain": [
       "<Figure size 864x576 with 2 Axes>"
      ]
     },
     "metadata": {
      "needs_background": "light"
     },
     "output_type": "display_data"
    }
   ],
   "source": [
    "from statsmodels.graphics.tsaplots import plot_acf,plot_pacf\n",
    "fig = plt.figure(figsize=(12,8))\n",
    "ax1 = fig.add_subplot(211)\n",
    "fig = plot_acf(data_frame['TT'],lags=50,ax=ax1)\n",
    "ax2 = fig.add_subplot(212)\n",
    "fig = plot_pacf(data_frame['TT'],lags=50,ax=ax2)"
   ]
  },
  {
   "cell_type": "code",
   "execution_count": 106,
   "id": "8e316f6a",
   "metadata": {},
   "outputs": [],
   "source": [
    "from statsmodels.tsa.arima.model import ARIMA\n",
    "model=ARIMA(data_frame['TT'],order=(2,0,1);\n",
    "model_fit=model.fit()"
   ]
  },
  {
   "cell_type": "code",
   "execution_count": 108,
   "id": "2507e7fe",
   "metadata": {},
   "outputs": [],
   "source": [
    "data=data_frame.copy()\n",
    "data['Forecasted_data']=model_fit.predict(start=451,end=567)"
   ]
  },
  {
   "cell_type": "code",
   "execution_count": 109,
   "id": "14e56112",
   "metadata": {},
   "outputs": [
    {
     "data": {
      "text/plain": [
       "<AxesSubplot:>"
      ]
     },
     "execution_count": 109,
     "metadata": {},
     "output_type": "execute_result"
    },
    {
     "data": {
      "image/png": "[encoded data removed]",
      "text/plain": [
       "<Figure size 432x288 with 1 Axes>"
      ]
     },
     "metadata": {
      "needs_background": "light"
     },
     "output_type": "display_data"
    }
   ],
   "source": [
    "data[['TT','Forecasted_data']].plot()"
   ]
  },
  {
   "cell_type": "code",
   "execution_count": 110,
   "id": "2f6b90c5",
   "metadata": {},
   "outputs": [],
   "source": [
    "#metrics\n",
    "from sklearn.metrics import mean_squared_error"
   ]
  },
  {
   "cell_type": "code",
   "execution_count": 111,
   "id": "685956cd",
   "metadata": {},
   "outputs": [],
   "source": [
    "mean_squared_error(test_data,data['Forecasted_data'].dropna())\n",
    "mape = np.mean(np.abs(data['Forecasted_data'].dropna() - test_data)/np.abs(test_data))"
   ]
  },
  {
   "cell_type": "code",
   "execution_count": 112,
   "id": "e6a7cbbf",
   "metadata": {},
   "outputs": [
    {
     "data": {
      "text/plain": [
       "86.9809474784615"
      ]
     },
     "execution_count": 112,
     "metadata": {},
     "output_type": "execute_result"
    }
   ],
   "source": [
    "100-(100*(sum([abs(((i-j)/j)) for i,j in zip(data['Forecasted_data'].dropna(),test_data)]))/len(test_data))"
   ]
  }
 ],
 "metadata": {
  "kernelspec": {
   "display_name": "Python 3 (ipykernel)",
   "language": "python",
   "name": "python3"
  },
  "language_info": {
   "codemirror_mode": {
    "name": "ipython",
    "version": 3
   },
   "file_extension": ".py",
   "mimetype": "text/x-python",
   "name": "python",
   "nbconvert_exporter": "python",
   "pygments_lexer": "ipython3",
   "version": "3.9.6"
  }
 },
 "nbformat": 4,
 "nbformat_minor": 5
}
