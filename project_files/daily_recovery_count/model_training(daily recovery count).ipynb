{
 "cells": [
  {
   "cell_type": "markdown",
   "id": "f0e101d6",
   "metadata": {},
   "source": [
    "# Covid 19 analysis and forecasting\n",
    "## Model training for daily recovery count of patients."
   ]
  },
  {
   "cell_type": "code",
   "execution_count": 1,
   "id": "c0e4661b",
   "metadata": {},
   "outputs": [],
   "source": [
    "import pandas as pd\n",
    "import numpy as np"
   ]
  },
  {
   "cell_type": "code",
   "execution_count": 2,
   "id": "f0e3ae09",
   "metadata": {},
   "outputs": [],
   "source": [
    "import matplotlib.pyplot as plt"
   ]
  },
  {
   "cell_type": "code",
   "execution_count": 3,
   "id": "18183212",
   "metadata": {},
   "outputs": [],
   "source": [
    "import warnings\n",
    "warnings.filterwarnings('ignore')"
   ]
  },
  {
   "cell_type": "code",
   "execution_count": 4,
   "id": "2e01ef0a",
   "metadata": {},
   "outputs": [],
   "source": [
    "data_frame=pd.read_csv('recovered_data.csv')"
   ]
  },
  {
   "cell_type": "code",
   "execution_count": 5,
   "id": "de81e8ec",
   "metadata": {},
   "outputs": [
    {
     "data": {
      "text/html": [
       "<div>\n",
       "<style scoped>\n",
       "    .dataframe tbody tr th:only-of-type {\n",
       "        vertical-align: middle;\n",
       "    }\n",
       "\n",
       "    .dataframe tbody tr th {\n",
       "        vertical-align: top;\n",
       "    }\n",
       "\n",
       "    .dataframe thead th {\n",
       "        text-align: right;\n",
       "    }\n",
       "</style>\n",
       "<table border=\"1\" class=\"dataframe\">\n",
       "  <thead>\n",
       "    <tr style=\"text-align: right;\">\n",
       "      <th></th>\n",
       "      <th>Date</th>\n",
       "      <th>Date_YMD</th>\n",
       "      <th>Status</th>\n",
       "      <th>TT</th>\n",
       "      <th>AN</th>\n",
       "      <th>AP</th>\n",
       "      <th>AR</th>\n",
       "      <th>AS</th>\n",
       "      <th>BR</th>\n",
       "      <th>CH</th>\n",
       "      <th>...</th>\n",
       "      <th>PB</th>\n",
       "      <th>RJ</th>\n",
       "      <th>SK</th>\n",
       "      <th>TN</th>\n",
       "      <th>TG</th>\n",
       "      <th>TR</th>\n",
       "      <th>UP</th>\n",
       "      <th>UT</th>\n",
       "      <th>WB</th>\n",
       "      <th>UN</th>\n",
       "    </tr>\n",
       "  </thead>\n",
       "  <tbody>\n",
       "    <tr>\n",
       "      <th>0</th>\n",
       "      <td>14-Mar-20</td>\n",
       "      <td>2020-03-14</td>\n",
       "      <td>Recovered</td>\n",
       "      <td>9</td>\n",
       "      <td>0</td>\n",
       "      <td>0</td>\n",
       "      <td>0</td>\n",
       "      <td>0</td>\n",
       "      <td>0</td>\n",
       "      <td>0</td>\n",
       "      <td>...</td>\n",
       "      <td>0</td>\n",
       "      <td>1</td>\n",
       "      <td>0</td>\n",
       "      <td>0</td>\n",
       "      <td>0</td>\n",
       "      <td>0</td>\n",
       "      <td>4</td>\n",
       "      <td>0</td>\n",
       "      <td>0</td>\n",
       "      <td>0</td>\n",
       "    </tr>\n",
       "    <tr>\n",
       "      <th>1</th>\n",
       "      <td>15-Mar-20</td>\n",
       "      <td>2020-03-15</td>\n",
       "      <td>Recovered</td>\n",
       "      <td>4</td>\n",
       "      <td>0</td>\n",
       "      <td>0</td>\n",
       "      <td>0</td>\n",
       "      <td>0</td>\n",
       "      <td>0</td>\n",
       "      <td>0</td>\n",
       "      <td>...</td>\n",
       "      <td>0</td>\n",
       "      <td>2</td>\n",
       "      <td>0</td>\n",
       "      <td>0</td>\n",
       "      <td>1</td>\n",
       "      <td>0</td>\n",
       "      <td>0</td>\n",
       "      <td>0</td>\n",
       "      <td>0</td>\n",
       "      <td>0</td>\n",
       "    </tr>\n",
       "    <tr>\n",
       "      <th>2</th>\n",
       "      <td>16-Mar-20</td>\n",
       "      <td>2020-03-16</td>\n",
       "      <td>Recovered</td>\n",
       "      <td>1</td>\n",
       "      <td>0</td>\n",
       "      <td>0</td>\n",
       "      <td>0</td>\n",
       "      <td>0</td>\n",
       "      <td>0</td>\n",
       "      <td>0</td>\n",
       "      <td>...</td>\n",
       "      <td>0</td>\n",
       "      <td>0</td>\n",
       "      <td>0</td>\n",
       "      <td>1</td>\n",
       "      <td>0</td>\n",
       "      <td>0</td>\n",
       "      <td>0</td>\n",
       "      <td>0</td>\n",
       "      <td>0</td>\n",
       "      <td>0</td>\n",
       "    </tr>\n",
       "    <tr>\n",
       "      <th>3</th>\n",
       "      <td>17-Mar-20</td>\n",
       "      <td>2020-03-17</td>\n",
       "      <td>Recovered</td>\n",
       "      <td>1</td>\n",
       "      <td>0</td>\n",
       "      <td>0</td>\n",
       "      <td>0</td>\n",
       "      <td>0</td>\n",
       "      <td>0</td>\n",
       "      <td>0</td>\n",
       "      <td>...</td>\n",
       "      <td>0</td>\n",
       "      <td>0</td>\n",
       "      <td>0</td>\n",
       "      <td>0</td>\n",
       "      <td>0</td>\n",
       "      <td>0</td>\n",
       "      <td>1</td>\n",
       "      <td>0</td>\n",
       "      <td>0</td>\n",
       "      <td>0</td>\n",
       "    </tr>\n",
       "    <tr>\n",
       "      <th>4</th>\n",
       "      <td>18-Mar-20</td>\n",
       "      <td>2020-03-18</td>\n",
       "      <td>Recovered</td>\n",
       "      <td>0</td>\n",
       "      <td>0</td>\n",
       "      <td>0</td>\n",
       "      <td>0</td>\n",
       "      <td>0</td>\n",
       "      <td>0</td>\n",
       "      <td>0</td>\n",
       "      <td>...</td>\n",
       "      <td>0</td>\n",
       "      <td>0</td>\n",
       "      <td>0</td>\n",
       "      <td>0</td>\n",
       "      <td>0</td>\n",
       "      <td>0</td>\n",
       "      <td>0</td>\n",
       "      <td>0</td>\n",
       "      <td>0</td>\n",
       "      <td>0</td>\n",
       "    </tr>\n",
       "    <tr>\n",
       "      <th>...</th>\n",
       "      <td>...</td>\n",
       "      <td>...</td>\n",
       "      <td>...</td>\n",
       "      <td>...</td>\n",
       "      <td>...</td>\n",
       "      <td>...</td>\n",
       "      <td>...</td>\n",
       "      <td>...</td>\n",
       "      <td>...</td>\n",
       "      <td>...</td>\n",
       "      <td>...</td>\n",
       "      <td>...</td>\n",
       "      <td>...</td>\n",
       "      <td>...</td>\n",
       "      <td>...</td>\n",
       "      <td>...</td>\n",
       "      <td>...</td>\n",
       "      <td>...</td>\n",
       "      <td>...</td>\n",
       "      <td>...</td>\n",
       "      <td>...</td>\n",
       "    </tr>\n",
       "    <tr>\n",
       "      <th>566</th>\n",
       "      <td>01-Oct-21</td>\n",
       "      <td>2021-10-01</td>\n",
       "      <td>Recovered</td>\n",
       "      <td>25460</td>\n",
       "      <td>1</td>\n",
       "      <td>1160</td>\n",
       "      <td>43</td>\n",
       "      <td>356</td>\n",
       "      <td>15</td>\n",
       "      <td>7</td>\n",
       "      <td>...</td>\n",
       "      <td>33</td>\n",
       "      <td>8</td>\n",
       "      <td>24</td>\n",
       "      <td>1623</td>\n",
       "      <td>252</td>\n",
       "      <td>42</td>\n",
       "      <td>35</td>\n",
       "      <td>17</td>\n",
       "      <td>694</td>\n",
       "      <td>0</td>\n",
       "    </tr>\n",
       "    <tr>\n",
       "      <th>567</th>\n",
       "      <td>02-Oct-21</td>\n",
       "      <td>2021-10-02</td>\n",
       "      <td>Recovered</td>\n",
       "      <td>25938</td>\n",
       "      <td>0</td>\n",
       "      <td>1424</td>\n",
       "      <td>37</td>\n",
       "      <td>272</td>\n",
       "      <td>2</td>\n",
       "      <td>6</td>\n",
       "      <td>...</td>\n",
       "      <td>33</td>\n",
       "      <td>12</td>\n",
       "      <td>40</td>\n",
       "      <td>1607</td>\n",
       "      <td>258</td>\n",
       "      <td>47</td>\n",
       "      <td>0</td>\n",
       "      <td>17</td>\n",
       "      <td>743</td>\n",
       "      <td>0</td>\n",
       "    </tr>\n",
       "    <tr>\n",
       "      <th>568</th>\n",
       "      <td>03-Oct-21</td>\n",
       "      <td>2021-10-03</td>\n",
       "      <td>Recovered</td>\n",
       "      <td>26724</td>\n",
       "      <td>1</td>\n",
       "      <td>973</td>\n",
       "      <td>29</td>\n",
       "      <td>324</td>\n",
       "      <td>9</td>\n",
       "      <td>1</td>\n",
       "      <td>...</td>\n",
       "      <td>18</td>\n",
       "      <td>10</td>\n",
       "      <td>127</td>\n",
       "      <td>1582</td>\n",
       "      <td>247</td>\n",
       "      <td>24</td>\n",
       "      <td>20</td>\n",
       "      <td>10</td>\n",
       "      <td>684</td>\n",
       "      <td>0</td>\n",
       "    </tr>\n",
       "    <tr>\n",
       "      <th>569</th>\n",
       "      <td>04-Oct-21</td>\n",
       "      <td>2021-10-04</td>\n",
       "      <td>Recovered</td>\n",
       "      <td>29645</td>\n",
       "      <td>0</td>\n",
       "      <td>1029</td>\n",
       "      <td>21</td>\n",
       "      <td>314</td>\n",
       "      <td>10</td>\n",
       "      <td>2</td>\n",
       "      <td>...</td>\n",
       "      <td>30</td>\n",
       "      <td>5</td>\n",
       "      <td>55</td>\n",
       "      <td>1559</td>\n",
       "      <td>239</td>\n",
       "      <td>27</td>\n",
       "      <td>17</td>\n",
       "      <td>16</td>\n",
       "      <td>572</td>\n",
       "      <td>0</td>\n",
       "    </tr>\n",
       "    <tr>\n",
       "      <th>570</th>\n",
       "      <td>05-Oct-21</td>\n",
       "      <td>2021-10-05</td>\n",
       "      <td>Recovered</td>\n",
       "      <td>24761</td>\n",
       "      <td>3</td>\n",
       "      <td>1272</td>\n",
       "      <td>19</td>\n",
       "      <td>156</td>\n",
       "      <td>4</td>\n",
       "      <td>3</td>\n",
       "      <td>...</td>\n",
       "      <td>20</td>\n",
       "      <td>6</td>\n",
       "      <td>53</td>\n",
       "      <td>1548</td>\n",
       "      <td>248</td>\n",
       "      <td>18</td>\n",
       "      <td>23</td>\n",
       "      <td>10</td>\n",
       "      <td>637</td>\n",
       "      <td>0</td>\n",
       "    </tr>\n",
       "  </tbody>\n",
       "</table>\n",
       "<p>571 rows × 42 columns</p>\n",
       "</div>"
      ],
      "text/plain": [
       "          Date    Date_YMD     Status     TT  AN    AP  AR   AS  BR  CH  ...  \\\n",
       "0    14-Mar-20  2020-03-14  Recovered      9   0     0   0    0   0   0  ...   \n",
       "1    15-Mar-20  2020-03-15  Recovered      4   0     0   0    0   0   0  ...   \n",
       "2    16-Mar-20  2020-03-16  Recovered      1   0     0   0    0   0   0  ...   \n",
       "3    17-Mar-20  2020-03-17  Recovered      1   0     0   0    0   0   0  ...   \n",
       "4    18-Mar-20  2020-03-18  Recovered      0   0     0   0    0   0   0  ...   \n",
       "..         ...         ...        ...    ...  ..   ...  ..  ...  ..  ..  ...   \n",
       "566  01-Oct-21  2021-10-01  Recovered  25460   1  1160  43  356  15   7  ...   \n",
       "567  02-Oct-21  2021-10-02  Recovered  25938   0  1424  37  272   2   6  ...   \n",
       "568  03-Oct-21  2021-10-03  Recovered  26724   1   973  29  324   9   1  ...   \n",
       "569  04-Oct-21  2021-10-04  Recovered  29645   0  1029  21  314  10   2  ...   \n",
       "570  05-Oct-21  2021-10-05  Recovered  24761   3  1272  19  156   4   3  ...   \n",
       "\n",
       "     PB  RJ   SK    TN   TG  TR  UP  UT   WB  UN  \n",
       "0     0   1    0     0    0   0   4   0    0   0  \n",
       "1     0   2    0     0    1   0   0   0    0   0  \n",
       "2     0   0    0     1    0   0   0   0    0   0  \n",
       "3     0   0    0     0    0   0   1   0    0   0  \n",
       "4     0   0    0     0    0   0   0   0    0   0  \n",
       "..   ..  ..  ...   ...  ...  ..  ..  ..  ...  ..  \n",
       "566  33   8   24  1623  252  42  35  17  694   0  \n",
       "567  33  12   40  1607  258  47   0  17  743   0  \n",
       "568  18  10  127  1582  247  24  20  10  684   0  \n",
       "569  30   5   55  1559  239  27  17  16  572   0  \n",
       "570  20   6   53  1548  248  18  23  10  637   0  \n",
       "\n",
       "[571 rows x 42 columns]"
      ]
     },
     "execution_count": 5,
     "metadata": {},
     "output_type": "execute_result"
    }
   ],
   "source": [
    "data_frame"
   ]
  },
  {
   "cell_type": "code",
   "execution_count": 6,
   "id": "b1724332",
   "metadata": {},
   "outputs": [],
   "source": [
    "last_index=data_frame.index[-1]"
   ]
  },
  {
   "cell_type": "code",
   "execution_count": 7,
   "id": "e926981e",
   "metadata": {},
   "outputs": [],
   "source": [
    "from statsmodels.graphics.tsaplots import plot_acf,plot_pacf"
   ]
  },
  {
   "cell_type": "markdown",
   "id": "5a3b9e68",
   "metadata": {},
   "source": [
    "## Forecasting for 'TT' (main feature)."
   ]
  },
  {
   "cell_type": "code",
   "execution_count": 8,
   "id": "c6cb0385",
   "metadata": {},
   "outputs": [
    {
     "data": {
      "image/png": "[encoded data removed]",
      "text/plain": [
       "<Figure size 864x576 with 2 Axes>"
      ]
     },
     "metadata": {
      "needs_background": "light"
     },
     "output_type": "display_data"
    }
   ],
   "source": [
    "fig = plt.figure(figsize=(12,8))\n",
    "ax1 = fig.add_subplot(211)\n",
    "fig = plot_acf(data_frame['TT'].iloc[13:],lags=50,ax=ax1)\n",
    "ax2 = fig.add_subplot(212)\n",
    "fig = plot_pacf(data_frame['TT'].iloc[13:],lags=50,ax=ax2)"
   ]
  },
  {
   "cell_type": "code",
   "execution_count": 9,
   "id": "27252496",
   "metadata": {},
   "outputs": [],
   "source": [
    "#p=50\n",
    "#d=0\n",
    "#q=21 or 48"
   ]
  },
  {
   "cell_type": "code",
   "execution_count": 10,
   "id": "1dfd53f4",
   "metadata": {},
   "outputs": [],
   "source": [
    "train_data=data_frame['TT'].loc[0:450]\n",
    "test_data=data_frame['TT'].loc[451:570]"
   ]
  },
  {
   "cell_type": "code",
   "execution_count": 11,
   "id": "18a518b9",
   "metadata": {},
   "outputs": [],
   "source": [
    "from statsmodels.tsa.arima.model import ARIMA\n",
    "def ARIMA_model(p,d,q,cols):\n",
    "    #splitting the total cases data.\n",
    "    train_data=data_frame[cols].loc[0:450]\n",
    "    test_data=data_frame[cols].loc[451:last_index]\n",
    "    #initializing the model to train\n",
    "    model=ARIMA(data_frame[cols],order=(p,d,q));\n",
    "    #training the data and assigned to model_fit var.\n",
    "    model_fit=model.fit()\n",
    "    data=data_frame.copy()\n",
    "    #predicting using test data\n",
    "    data['Forecasted_data']=model_fit.predict(start=451,end=567)\n",
    "    #model evaluation\n",
    "    #100-(100*(sum([abs(((i-j)/j)) for i,j in zip(data['Forecasted_data'].dropna(),test_data)]))/len(test_data))\n",
    "    mape = np.mean(np.abs(data['Forecasted_data'].dropna() - test_data)/np.abs(test_data))*100\n",
    "    accuracy=100-mape\n",
    "    print('p: {}, d: {}, q:{}'.format(p,d,q))\n",
    "    print('Accuracy: {}%'.format(round(accuracy,2)))\n",
    "    return model_fit"
   ]
  },
  {
   "cell_type": "code",
   "execution_count": 12,
   "id": "e82f2660",
   "metadata": {
    "scrolled": true
   },
   "outputs": [
    {
     "name": "stderr",
     "output_type": "stream",
     "text": [
      "/Library/Frameworks/Python.framework/Versions/3.9/lib/python3.9/site-packages/statsmodels/base/model.py:566: ConvergenceWarning: Maximum Likelihood optimization failed to converge. Check mle_retvals\n",
      "  warnings.warn(\"Maximum Likelihood optimization failed to \"\n"
     ]
    },
    {
     "name": "stdout",
     "output_type": "stream",
     "text": [
      "p: 50, d: 0, q:21\n",
      "Accuracy: 92.68%\n"
     ]
    }
   ],
   "source": [
    "#for TT feature.\n",
    "tt_model=ARIMA_model(50,0,21,'TT')"
   ]
  },
  {
   "cell_type": "code",
   "execution_count": 13,
   "id": "fbeea6f1",
   "metadata": {},
   "outputs": [],
   "source": [
    "data=data_frame.copy()\n",
    "data['Overall_forecasted_cases']=tt_model.predict(start=451,end=last_index)"
   ]
  },
  {
   "cell_type": "code",
   "execution_count": 14,
   "id": "e2846bab",
   "metadata": {},
   "outputs": [
    {
     "data": {
      "image/png": "[encoded data removed]",
      "text/plain": [
       "<Figure size 432x288 with 1 Axes>"
      ]
     },
     "metadata": {
      "needs_background": "light"
     },
     "output_type": "display_data"
    }
   ],
   "source": [
    "data[['TT','Overall_forecasted_cases']].plot();"
   ]
  },
  {
   "cell_type": "code",
   "execution_count": 15,
   "id": "80817d3c",
   "metadata": {},
   "outputs": [
    {
     "data": {
      "image/png": "[encoded data removed]",
      "text/plain": [
       "<Figure size 432x288 with 1 Axes>"
      ]
     },
     "metadata": {
      "needs_background": "light"
     },
     "output_type": "display_data"
    }
   ],
   "source": [
    "future_dates=range(last_index,last_index+150)\n",
    "future_data=pd.DataFrame(index=future_dates,columns=data.columns)\n",
    "final_data=pd.concat([data,future_data])\n",
    "final_data['final_tt_data_forecast']=tt_model.predict(start=last_index,end=last_index+150,dynamic=True)\n",
    "final_data[['TT','final_tt_data_forecast']].plot();"
   ]
  },
  {
   "cell_type": "code",
   "execution_count": 16,
   "id": "c0b992e2",
   "metadata": {},
   "outputs": [
    {
     "data": {
      "text/html": [
       "<div>\n",
       "<style scoped>\n",
       "    .dataframe tbody tr th:only-of-type {\n",
       "        vertical-align: middle;\n",
       "    }\n",
       "\n",
       "    .dataframe tbody tr th {\n",
       "        vertical-align: top;\n",
       "    }\n",
       "\n",
       "    .dataframe thead th {\n",
       "        text-align: right;\n",
       "    }\n",
       "</style>\n",
       "<table border=\"1\" class=\"dataframe\">\n",
       "  <thead>\n",
       "    <tr style=\"text-align: right;\">\n",
       "      <th></th>\n",
       "      <th>Date</th>\n",
       "      <th>Date_YMD</th>\n",
       "      <th>Status</th>\n",
       "      <th>TT</th>\n",
       "      <th>AN</th>\n",
       "      <th>AP</th>\n",
       "      <th>AR</th>\n",
       "      <th>AS</th>\n",
       "      <th>BR</th>\n",
       "      <th>CH</th>\n",
       "      <th>...</th>\n",
       "      <th>SK</th>\n",
       "      <th>TN</th>\n",
       "      <th>TG</th>\n",
       "      <th>TR</th>\n",
       "      <th>UP</th>\n",
       "      <th>UT</th>\n",
       "      <th>WB</th>\n",
       "      <th>UN</th>\n",
       "      <th>Overall_forecasted_cases</th>\n",
       "      <th>final_tt_data_forecast</th>\n",
       "    </tr>\n",
       "  </thead>\n",
       "  <tbody>\n",
       "    <tr>\n",
       "      <th>570</th>\n",
       "      <td>NaN</td>\n",
       "      <td>NaN</td>\n",
       "      <td>NaN</td>\n",
       "      <td>NaN</td>\n",
       "      <td>NaN</td>\n",
       "      <td>NaN</td>\n",
       "      <td>NaN</td>\n",
       "      <td>NaN</td>\n",
       "      <td>NaN</td>\n",
       "      <td>NaN</td>\n",
       "      <td>...</td>\n",
       "      <td>NaN</td>\n",
       "      <td>NaN</td>\n",
       "      <td>NaN</td>\n",
       "      <td>NaN</td>\n",
       "      <td>NaN</td>\n",
       "      <td>NaN</td>\n",
       "      <td>NaN</td>\n",
       "      <td>NaN</td>\n",
       "      <td>NaN</td>\n",
       "      <td>28716.461590</td>\n",
       "    </tr>\n",
       "    <tr>\n",
       "      <th>571</th>\n",
       "      <td>NaN</td>\n",
       "      <td>NaN</td>\n",
       "      <td>NaN</td>\n",
       "      <td>NaN</td>\n",
       "      <td>NaN</td>\n",
       "      <td>NaN</td>\n",
       "      <td>NaN</td>\n",
       "      <td>NaN</td>\n",
       "      <td>NaN</td>\n",
       "      <td>NaN</td>\n",
       "      <td>...</td>\n",
       "      <td>NaN</td>\n",
       "      <td>NaN</td>\n",
       "      <td>NaN</td>\n",
       "      <td>NaN</td>\n",
       "      <td>NaN</td>\n",
       "      <td>NaN</td>\n",
       "      <td>NaN</td>\n",
       "      <td>NaN</td>\n",
       "      <td>NaN</td>\n",
       "      <td>29238.209643</td>\n",
       "    </tr>\n",
       "    <tr>\n",
       "      <th>572</th>\n",
       "      <td>NaN</td>\n",
       "      <td>NaN</td>\n",
       "      <td>NaN</td>\n",
       "      <td>NaN</td>\n",
       "      <td>NaN</td>\n",
       "      <td>NaN</td>\n",
       "      <td>NaN</td>\n",
       "      <td>NaN</td>\n",
       "      <td>NaN</td>\n",
       "      <td>NaN</td>\n",
       "      <td>...</td>\n",
       "      <td>NaN</td>\n",
       "      <td>NaN</td>\n",
       "      <td>NaN</td>\n",
       "      <td>NaN</td>\n",
       "      <td>NaN</td>\n",
       "      <td>NaN</td>\n",
       "      <td>NaN</td>\n",
       "      <td>NaN</td>\n",
       "      <td>NaN</td>\n",
       "      <td>27263.232094</td>\n",
       "    </tr>\n",
       "    <tr>\n",
       "      <th>573</th>\n",
       "      <td>NaN</td>\n",
       "      <td>NaN</td>\n",
       "      <td>NaN</td>\n",
       "      <td>NaN</td>\n",
       "      <td>NaN</td>\n",
       "      <td>NaN</td>\n",
       "      <td>NaN</td>\n",
       "      <td>NaN</td>\n",
       "      <td>NaN</td>\n",
       "      <td>NaN</td>\n",
       "      <td>...</td>\n",
       "      <td>NaN</td>\n",
       "      <td>NaN</td>\n",
       "      <td>NaN</td>\n",
       "      <td>NaN</td>\n",
       "      <td>NaN</td>\n",
       "      <td>NaN</td>\n",
       "      <td>NaN</td>\n",
       "      <td>NaN</td>\n",
       "      <td>NaN</td>\n",
       "      <td>23906.970516</td>\n",
       "    </tr>\n",
       "    <tr>\n",
       "      <th>574</th>\n",
       "      <td>NaN</td>\n",
       "      <td>NaN</td>\n",
       "      <td>NaN</td>\n",
       "      <td>NaN</td>\n",
       "      <td>NaN</td>\n",
       "      <td>NaN</td>\n",
       "      <td>NaN</td>\n",
       "      <td>NaN</td>\n",
       "      <td>NaN</td>\n",
       "      <td>NaN</td>\n",
       "      <td>...</td>\n",
       "      <td>NaN</td>\n",
       "      <td>NaN</td>\n",
       "      <td>NaN</td>\n",
       "      <td>NaN</td>\n",
       "      <td>NaN</td>\n",
       "      <td>NaN</td>\n",
       "      <td>NaN</td>\n",
       "      <td>NaN</td>\n",
       "      <td>NaN</td>\n",
       "      <td>25230.560040</td>\n",
       "    </tr>\n",
       "    <tr>\n",
       "      <th>...</th>\n",
       "      <td>...</td>\n",
       "      <td>...</td>\n",
       "      <td>...</td>\n",
       "      <td>...</td>\n",
       "      <td>...</td>\n",
       "      <td>...</td>\n",
       "      <td>...</td>\n",
       "      <td>...</td>\n",
       "      <td>...</td>\n",
       "      <td>...</td>\n",
       "      <td>...</td>\n",
       "      <td>...</td>\n",
       "      <td>...</td>\n",
       "      <td>...</td>\n",
       "      <td>...</td>\n",
       "      <td>...</td>\n",
       "      <td>...</td>\n",
       "      <td>...</td>\n",
       "      <td>...</td>\n",
       "      <td>...</td>\n",
       "      <td>...</td>\n",
       "    </tr>\n",
       "    <tr>\n",
       "      <th>715</th>\n",
       "      <td>NaN</td>\n",
       "      <td>NaN</td>\n",
       "      <td>NaN</td>\n",
       "      <td>NaN</td>\n",
       "      <td>NaN</td>\n",
       "      <td>NaN</td>\n",
       "      <td>NaN</td>\n",
       "      <td>NaN</td>\n",
       "      <td>NaN</td>\n",
       "      <td>NaN</td>\n",
       "      <td>...</td>\n",
       "      <td>NaN</td>\n",
       "      <td>NaN</td>\n",
       "      <td>NaN</td>\n",
       "      <td>NaN</td>\n",
       "      <td>NaN</td>\n",
       "      <td>NaN</td>\n",
       "      <td>NaN</td>\n",
       "      <td>NaN</td>\n",
       "      <td>NaN</td>\n",
       "      <td>57965.638729</td>\n",
       "    </tr>\n",
       "    <tr>\n",
       "      <th>716</th>\n",
       "      <td>NaN</td>\n",
       "      <td>NaN</td>\n",
       "      <td>NaN</td>\n",
       "      <td>NaN</td>\n",
       "      <td>NaN</td>\n",
       "      <td>NaN</td>\n",
       "      <td>NaN</td>\n",
       "      <td>NaN</td>\n",
       "      <td>NaN</td>\n",
       "      <td>NaN</td>\n",
       "      <td>...</td>\n",
       "      <td>NaN</td>\n",
       "      <td>NaN</td>\n",
       "      <td>NaN</td>\n",
       "      <td>NaN</td>\n",
       "      <td>NaN</td>\n",
       "      <td>NaN</td>\n",
       "      <td>NaN</td>\n",
       "      <td>NaN</td>\n",
       "      <td>NaN</td>\n",
       "      <td>57673.390247</td>\n",
       "    </tr>\n",
       "    <tr>\n",
       "      <th>717</th>\n",
       "      <td>NaN</td>\n",
       "      <td>NaN</td>\n",
       "      <td>NaN</td>\n",
       "      <td>NaN</td>\n",
       "      <td>NaN</td>\n",
       "      <td>NaN</td>\n",
       "      <td>NaN</td>\n",
       "      <td>NaN</td>\n",
       "      <td>NaN</td>\n",
       "      <td>NaN</td>\n",
       "      <td>...</td>\n",
       "      <td>NaN</td>\n",
       "      <td>NaN</td>\n",
       "      <td>NaN</td>\n",
       "      <td>NaN</td>\n",
       "      <td>NaN</td>\n",
       "      <td>NaN</td>\n",
       "      <td>NaN</td>\n",
       "      <td>NaN</td>\n",
       "      <td>NaN</td>\n",
       "      <td>57580.021713</td>\n",
       "    </tr>\n",
       "    <tr>\n",
       "      <th>718</th>\n",
       "      <td>NaN</td>\n",
       "      <td>NaN</td>\n",
       "      <td>NaN</td>\n",
       "      <td>NaN</td>\n",
       "      <td>NaN</td>\n",
       "      <td>NaN</td>\n",
       "      <td>NaN</td>\n",
       "      <td>NaN</td>\n",
       "      <td>NaN</td>\n",
       "      <td>NaN</td>\n",
       "      <td>...</td>\n",
       "      <td>NaN</td>\n",
       "      <td>NaN</td>\n",
       "      <td>NaN</td>\n",
       "      <td>NaN</td>\n",
       "      <td>NaN</td>\n",
       "      <td>NaN</td>\n",
       "      <td>NaN</td>\n",
       "      <td>NaN</td>\n",
       "      <td>NaN</td>\n",
       "      <td>57680.894392</td>\n",
       "    </tr>\n",
       "    <tr>\n",
       "      <th>719</th>\n",
       "      <td>NaN</td>\n",
       "      <td>NaN</td>\n",
       "      <td>NaN</td>\n",
       "      <td>NaN</td>\n",
       "      <td>NaN</td>\n",
       "      <td>NaN</td>\n",
       "      <td>NaN</td>\n",
       "      <td>NaN</td>\n",
       "      <td>NaN</td>\n",
       "      <td>NaN</td>\n",
       "      <td>...</td>\n",
       "      <td>NaN</td>\n",
       "      <td>NaN</td>\n",
       "      <td>NaN</td>\n",
       "      <td>NaN</td>\n",
       "      <td>NaN</td>\n",
       "      <td>NaN</td>\n",
       "      <td>NaN</td>\n",
       "      <td>NaN</td>\n",
       "      <td>NaN</td>\n",
       "      <td>57763.968817</td>\n",
       "    </tr>\n",
       "  </tbody>\n",
       "</table>\n",
       "<p>150 rows × 44 columns</p>\n",
       "</div>"
      ],
      "text/plain": [
       "    Date Date_YMD Status   TT   AN   AP   AR   AS   BR   CH  ...   SK   TN  \\\n",
       "570  NaN      NaN    NaN  NaN  NaN  NaN  NaN  NaN  NaN  NaN  ...  NaN  NaN   \n",
       "571  NaN      NaN    NaN  NaN  NaN  NaN  NaN  NaN  NaN  NaN  ...  NaN  NaN   \n",
       "572  NaN      NaN    NaN  NaN  NaN  NaN  NaN  NaN  NaN  NaN  ...  NaN  NaN   \n",
       "573  NaN      NaN    NaN  NaN  NaN  NaN  NaN  NaN  NaN  NaN  ...  NaN  NaN   \n",
       "574  NaN      NaN    NaN  NaN  NaN  NaN  NaN  NaN  NaN  NaN  ...  NaN  NaN   \n",
       "..   ...      ...    ...  ...  ...  ...  ...  ...  ...  ...  ...  ...  ...   \n",
       "715  NaN      NaN    NaN  NaN  NaN  NaN  NaN  NaN  NaN  NaN  ...  NaN  NaN   \n",
       "716  NaN      NaN    NaN  NaN  NaN  NaN  NaN  NaN  NaN  NaN  ...  NaN  NaN   \n",
       "717  NaN      NaN    NaN  NaN  NaN  NaN  NaN  NaN  NaN  NaN  ...  NaN  NaN   \n",
       "718  NaN      NaN    NaN  NaN  NaN  NaN  NaN  NaN  NaN  NaN  ...  NaN  NaN   \n",
       "719  NaN      NaN    NaN  NaN  NaN  NaN  NaN  NaN  NaN  NaN  ...  NaN  NaN   \n",
       "\n",
       "      TG   TR   UP   UT   WB   UN Overall_forecasted_cases  \\\n",
       "570  NaN  NaN  NaN  NaN  NaN  NaN                      NaN   \n",
       "571  NaN  NaN  NaN  NaN  NaN  NaN                      NaN   \n",
       "572  NaN  NaN  NaN  NaN  NaN  NaN                      NaN   \n",
       "573  NaN  NaN  NaN  NaN  NaN  NaN                      NaN   \n",
       "574  NaN  NaN  NaN  NaN  NaN  NaN                      NaN   \n",
       "..   ...  ...  ...  ...  ...  ...                      ...   \n",
       "715  NaN  NaN  NaN  NaN  NaN  NaN                      NaN   \n",
       "716  NaN  NaN  NaN  NaN  NaN  NaN                      NaN   \n",
       "717  NaN  NaN  NaN  NaN  NaN  NaN                      NaN   \n",
       "718  NaN  NaN  NaN  NaN  NaN  NaN                      NaN   \n",
       "719  NaN  NaN  NaN  NaN  NaN  NaN                      NaN   \n",
       "\n",
       "    final_tt_data_forecast  \n",
       "570           28716.461590  \n",
       "571           29238.209643  \n",
       "572           27263.232094  \n",
       "573           23906.970516  \n",
       "574           25230.560040  \n",
       "..                     ...  \n",
       "715           57965.638729  \n",
       "716           57673.390247  \n",
       "717           57580.021713  \n",
       "718           57680.894392  \n",
       "719           57763.968817  \n",
       "\n",
       "[150 rows x 44 columns]"
      ]
     },
     "execution_count": 16,
     "metadata": {},
     "output_type": "execute_result"
    }
   ],
   "source": [
    "final_data[final_data['Date_YMD'].isnull()==True]"
   ]
  },
  {
   "cell_type": "code",
   "execution_count": 17,
   "id": "1cf99799",
   "metadata": {},
   "outputs": [],
   "source": [
    "final_data['Date_YMD'].iloc[571:]=pd.date_range(start='2021-10-06',periods=150,freq='D')"
   ]
  },
  {
   "cell_type": "code",
   "execution_count": 18,
   "id": "d123b6ad",
   "metadata": {},
   "outputs": [],
   "source": [
    "final_data['Date_YMD']=pd.to_datetime(final_data['Date_YMD'])"
   ]
  },
  {
   "cell_type": "code",
   "execution_count": 19,
   "id": "bab0a652",
   "metadata": {},
   "outputs": [],
   "source": [
    "final_total_forecast_data=pd.concat([final_data['TT'].dropna(),final_data['final_tt_data_forecast'].dropna()])"
   ]
  },
  {
   "cell_type": "markdown",
   "id": "1e96527e",
   "metadata": {},
   "source": [
    "## Final forecast of daily cases of overall India."
   ]
  },
  {
   "cell_type": "code",
   "execution_count": 20,
   "id": "66cb65a1",
   "metadata": {},
   "outputs": [
    {
     "data": {
      "image/png": "[encoded data removed]",
      "text/plain": [
       "<Figure size 432x288 with 1 Axes>"
      ]
     },
     "metadata": {
      "needs_background": "light"
     },
     "output_type": "display_data"
    }
   ],
   "source": [
    "plt.title('Forecast of daily cases in India')\n",
    "plt.plot(final_data['Date_YMD'],final_data[['TT','final_tt_data_forecast']]);\n",
    "plt.xticks(rotation=90);\n",
    "plt.xlabel('Date');\n",
    "plt.ylabel('Count of cases');"
   ]
  },
  {
   "cell_type": "markdown",
   "id": "1f1cbde0",
   "metadata": {},
   "source": [
    "## For 'AP' feature"
   ]
  },
  {
   "cell_type": "code",
   "execution_count": 21,
   "id": "039a2b8e",
   "metadata": {},
   "outputs": [
    {
     "data": {
      "image/png": "[encoded data removed]",
      "text/plain": [
       "<Figure size 864x576 with 2 Axes>"
      ]
     },
     "metadata": {
      "needs_background": "light"
     },
     "output_type": "display_data"
    }
   ],
   "source": [
    "fig = plt.figure(figsize=(12,8))\n",
    "ax1 = fig.add_subplot(211)\n",
    "fig = plot_acf(data_frame['AP'].iloc[13:],lags=50,ax=ax1)\n",
    "ax2 = fig.add_subplot(212)\n",
    "fig = plot_pacf(data_frame['AP'].iloc[13:],lags=50,ax=ax2)"
   ]
  },
  {
   "cell_type": "code",
   "execution_count": 22,
   "id": "c78c6828",
   "metadata": {},
   "outputs": [],
   "source": [
    "#p=50\n",
    "#d=0\n",
    "#q=2"
   ]
  },
  {
   "cell_type": "code",
   "execution_count": 23,
   "id": "73dbc979",
   "metadata": {},
   "outputs": [
    {
     "name": "stderr",
     "output_type": "stream",
     "text": [
      "/Library/Frameworks/Python.framework/Versions/3.9/lib/python3.9/site-packages/statsmodels/base/model.py:566: ConvergenceWarning: Maximum Likelihood optimization failed to converge. Check mle_retvals\n",
      "  warnings.warn(\"Maximum Likelihood optimization failed to \"\n"
     ]
    },
    {
     "name": "stdout",
     "output_type": "stream",
     "text": [
      "p: 50, d: 0, q:8\n",
      "Accuracy: 87.75%\n"
     ]
    },
    {
     "data": {
      "text/plain": [
       "<statsmodels.tsa.arima.model.ARIMAResultsWrapper at 0x7f94b7826a60>"
      ]
     },
     "execution_count": 23,
     "metadata": {},
     "output_type": "execute_result"
    }
   ],
   "source": [
    "ARIMA_model(50,0,8,'AP')"
   ]
  },
  {
   "cell_type": "code",
   "execution_count": 24,
   "id": "866a854f",
   "metadata": {},
   "outputs": [
    {
     "name": "stderr",
     "output_type": "stream",
     "text": [
      "/Library/Frameworks/Python.framework/Versions/3.9/lib/python3.9/site-packages/statsmodels/base/model.py:566: ConvergenceWarning: Maximum Likelihood optimization failed to converge. Check mle_retvals\n",
      "  warnings.warn(\"Maximum Likelihood optimization failed to \"\n"
     ]
    },
    {
     "name": "stdout",
     "output_type": "stream",
     "text": [
      "p: 50, d: 0, q:29\n",
      "Accuracy: 88.99%\n"
     ]
    },
    {
     "data": {
      "text/plain": [
       "<statsmodels.tsa.arima.model.ARIMAResultsWrapper at 0x7f94b88a3e20>"
      ]
     },
     "execution_count": 24,
     "metadata": {},
     "output_type": "execute_result"
    }
   ],
   "source": [
    "ARIMA_model(50,0,29,'AP')"
   ]
  },
  {
   "cell_type": "code",
   "execution_count": 33,
   "id": "f049b018",
   "metadata": {},
   "outputs": [
    {
     "name": "stderr",
     "output_type": "stream",
     "text": [
      "/Library/Frameworks/Python.framework/Versions/3.9/lib/python3.9/site-packages/statsmodels/base/model.py:566: ConvergenceWarning: Maximum Likelihood optimization failed to converge. Check mle_retvals\n",
      "  warnings.warn(\"Maximum Likelihood optimization failed to \"\n"
     ]
    },
    {
     "name": "stdout",
     "output_type": "stream",
     "text": [
      "p: 49, d: 0, q:3\n",
      "Accuracy: 87.41%\n"
     ]
    },
    {
     "data": {
      "text/plain": [
       "<statsmodels.tsa.arima.model.ARIMAResultsWrapper at 0x7f94b88a3c40>"
      ]
     },
     "execution_count": 33,
     "metadata": {},
     "output_type": "execute_result"
    }
   ],
   "source": [
    "ARIMA_model(49,0,3,'AP')"
   ]
  },
  {
   "cell_type": "code",
   "execution_count": 34,
   "id": "42cc97d9",
   "metadata": {},
   "outputs": [
    {
     "name": "stderr",
     "output_type": "stream",
     "text": [
      "/Library/Frameworks/Python.framework/Versions/3.9/lib/python3.9/site-packages/statsmodels/base/model.py:566: ConvergenceWarning: Maximum Likelihood optimization failed to converge. Check mle_retvals\n",
      "  warnings.warn(\"Maximum Likelihood optimization failed to \"\n"
     ]
    },
    {
     "name": "stdout",
     "output_type": "stream",
     "text": [
      "p: 49, d: 0, q:29\n",
      "Accuracy: 88.88%\n"
     ]
    },
    {
     "data": {
      "text/plain": [
       "<statsmodels.tsa.arima.model.ARIMAResultsWrapper at 0x7f94b4215a60>"
      ]
     },
     "execution_count": 34,
     "metadata": {},
     "output_type": "execute_result"
    }
   ],
   "source": [
    "ARIMA_model(49,0,29,'AP')"
   ]
  },
  {
   "cell_type": "code",
   "execution_count": 35,
   "id": "b6d7b594",
   "metadata": {},
   "outputs": [
    {
     "name": "stderr",
     "output_type": "stream",
     "text": [
      "/Library/Frameworks/Python.framework/Versions/3.9/lib/python3.9/site-packages/statsmodels/base/model.py:566: ConvergenceWarning: Maximum Likelihood optimization failed to converge. Check mle_retvals\n",
      "  warnings.warn(\"Maximum Likelihood optimization failed to \"\n"
     ]
    },
    {
     "name": "stdout",
     "output_type": "stream",
     "text": [
      "p: 49, d: 0, q:31\n",
      "Accuracy: 87.85%\n"
     ]
    },
    {
     "data": {
      "text/plain": [
       "<statsmodels.tsa.arima.model.ARIMAResultsWrapper at 0x7f9481b6b9d0>"
      ]
     },
     "execution_count": 35,
     "metadata": {},
     "output_type": "execute_result"
    }
   ],
   "source": [
    "ARIMA_model(49,0,31,'AP')"
   ]
  },
  {
   "cell_type": "code",
   "execution_count": 25,
   "id": "711e7a88",
   "metadata": {
    "scrolled": true
   },
   "outputs": [
    {
     "name": "stderr",
     "output_type": "stream",
     "text": [
      "/Library/Frameworks/Python.framework/Versions/3.9/lib/python3.9/site-packages/statsmodels/base/model.py:566: ConvergenceWarning: Maximum Likelihood optimization failed to converge. Check mle_retvals\n",
      "  warnings.warn(\"Maximum Likelihood optimization failed to \"\n"
     ]
    },
    {
     "name": "stdout",
     "output_type": "stream",
     "text": [
      "p: 50, d: 0, q:31\n",
      "Accuracy: 88.03%\n"
     ]
    }
   ],
   "source": [
    "ARIMA_model(50,0,31,'AP')"
   ]
  },
  {
   "cell_type": "code",
   "execution_count": 36,
   "id": "7e49249f",
   "metadata": {},
   "outputs": [
    {
     "name": "stderr",
     "output_type": "stream",
     "text": [
      "/Library/Frameworks/Python.framework/Versions/3.9/lib/python3.9/site-packages/statsmodels/base/model.py:566: ConvergenceWarning: Maximum Likelihood optimization failed to converge. Check mle_retvals\n",
      "  warnings.warn(\"Maximum Likelihood optimization failed to \"\n"
     ]
    },
    {
     "name": "stdout",
     "output_type": "stream",
     "text": [
      "p: 50, d: 0, q:29\n",
      "Accuracy: 88.99%\n"
     ]
    }
   ],
   "source": [
    "ap_model=ARIMA_model(50,0,29,'AP')"
   ]
  },
  {
   "cell_type": "code",
   "execution_count": 37,
   "id": "fecbb239",
   "metadata": {},
   "outputs": [],
   "source": [
    "data=data_frame.copy()\n",
    "data['ap_forecasted_cases']=ap_model.predict(start=451,end=last_index)"
   ]
  },
  {
   "cell_type": "code",
   "execution_count": 38,
   "id": "eb59638a",
   "metadata": {},
   "outputs": [
    {
     "data": {
      "image/png": "[encoded data removed]",
      "text/plain": [
       "<Figure size 432x288 with 1 Axes>"
      ]
     },
     "metadata": {
      "needs_background": "light"
     },
     "output_type": "display_data"
    }
   ],
   "source": [
    "data[['AP','ap_forecasted_cases']].plot();"
   ]
  },
  {
   "cell_type": "code",
   "execution_count": 47,
   "id": "d174bd8a",
   "metadata": {},
   "outputs": [
    {
     "data": {
      "image/png": "[encoded data removed]",
      "text/plain": [
       "<Figure size 432x288 with 1 Axes>"
      ]
     },
     "metadata": {
      "needs_background": "light"
     },
     "output_type": "display_data"
    }
   ],
   "source": [
    "future_dates=range(last_index,last_index+150)\n",
    "future_data=pd.DataFrame(index=future_dates,columns=data.columns)\n",
    "final_data=pd.concat([data,future_data])\n",
    "final_data['final_ap_data_forecast']=ap_model.predict(start=last_index,end=last_index+150,dynamic=True)\n",
    "final_data[['AP','final_ap_data_forecast']].plot();"
   ]
  },
  {
   "cell_type": "code",
   "execution_count": 52,
   "id": "3aa85886",
   "metadata": {},
   "outputs": [],
   "source": [
    "final_data['Date_YMD']=pd.to_datetime(final_data['Date_YMD'])\n",
    "final_data['Date_YMD'].iloc[571:]=pd.date_range(start='2021-10-06',periods=150,freq='D')"
   ]
  },
  {
   "cell_type": "code",
   "execution_count": 53,
   "id": "499dfea8",
   "metadata": {},
   "outputs": [],
   "source": [
    "final_total_forecast_data=pd.concat([final_data['AP'].dropna(),final_data['final_ap_data_forecast'].dropna()])"
   ]
  },
  {
   "cell_type": "code",
   "execution_count": 54,
   "id": "d47672e4",
   "metadata": {},
   "outputs": [
    {
     "data": {
      "text/plain": [
       "0                0\n",
       "1                0\n",
       "2                0\n",
       "3                0\n",
       "4                0\n",
       "          ...     \n",
       "715    3551.203461\n",
       "716    3561.087347\n",
       "717    3561.150871\n",
       "718    3555.829175\n",
       "719    3552.485457\n",
       "Length: 722, dtype: object"
      ]
     },
     "execution_count": 54,
     "metadata": {},
     "output_type": "execute_result"
    }
   ],
   "source": [
    "final_total_forecast_data"
   ]
  },
  {
   "cell_type": "markdown",
   "id": "ab26f61c",
   "metadata": {},
   "source": [
    "## Final forecast of daily cases in AP."
   ]
  },
  {
   "cell_type": "code",
   "execution_count": 55,
   "id": "f8722f64",
   "metadata": {},
   "outputs": [
    {
     "data": {
      "image/png": "[encoded data removed]",
      "text/plain": [
       "<Figure size 432x288 with 1 Axes>"
      ]
     },
     "metadata": {
      "needs_background": "light"
     },
     "output_type": "display_data"
    }
   ],
   "source": [
    "plt.title('Forecast of daily cases in India')\n",
    "plt.plot(final_data['Date_YMD'],final_data[['AP','final_ap_data_forecast']]);\n",
    "plt.xticks(rotation=90);\n",
    "plt.xlabel('Date');\n",
    "plt.ylabel('Count of cases');"
   ]
  }
 ],
 "metadata": {
  "kernelspec": {
   "display_name": "Python 3 (ipykernel)",
   "language": "python",
   "name": "python3"
  },
  "language_info": {
   "codemirror_mode": {
    "name": "ipython",
    "version": 3
   },
   "file_extension": ".py",
   "mimetype": "text/x-python",
   "name": "python",
   "nbconvert_exporter": "python",
   "pygments_lexer": "ipython3",
   "version": "3.9.6"
  }
 },
 "nbformat": 4,
 "nbformat_minor": 5
}
